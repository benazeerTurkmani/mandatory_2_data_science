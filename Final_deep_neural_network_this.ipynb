{
 "cells": [
  {
   "cell_type": "code",
   "execution_count": 496,
   "metadata": {},
   "outputs": [],
   "source": [
    "import pandas as pd\n",
    "import numpy as np # linear algebra\n",
    "import matplotlib.pyplot as plt\n",
    "%matplotlib inline\n",
    "import seaborn as sns\n"
   ]
  },
  {
   "cell_type": "code",
   "execution_count": 79,
   "metadata": {},
   "outputs": [],
   "source": [
    "df = pd.read_csv('avocado.csv')"
   ]
  },
  {
   "cell_type": "code",
   "execution_count": 3,
   "metadata": {},
   "outputs": [
    {
     "data": {
      "text/html": [
       "<div>\n",
       "<style scoped>\n",
       "    .dataframe tbody tr th:only-of-type {\n",
       "        vertical-align: middle;\n",
       "    }\n",
       "\n",
       "    .dataframe tbody tr th {\n",
       "        vertical-align: top;\n",
       "    }\n",
       "\n",
       "    .dataframe thead th {\n",
       "        text-align: right;\n",
       "    }\n",
       "</style>\n",
       "<table border=\"1\" class=\"dataframe\">\n",
       "  <thead>\n",
       "    <tr style=\"text-align: right;\">\n",
       "      <th></th>\n",
       "      <th>Unnamed: 0</th>\n",
       "      <th>Date</th>\n",
       "      <th>AveragePrice</th>\n",
       "      <th>Total Volume</th>\n",
       "      <th>4046</th>\n",
       "      <th>4225</th>\n",
       "      <th>4770</th>\n",
       "      <th>Total Bags</th>\n",
       "      <th>Small Bags</th>\n",
       "      <th>Large Bags</th>\n",
       "      <th>XLarge Bags</th>\n",
       "      <th>type</th>\n",
       "      <th>year</th>\n",
       "      <th>region</th>\n",
       "    </tr>\n",
       "  </thead>\n",
       "  <tbody>\n",
       "    <tr>\n",
       "      <th>0</th>\n",
       "      <td>0</td>\n",
       "      <td>2015-12-27</td>\n",
       "      <td>1.33</td>\n",
       "      <td>64236.62</td>\n",
       "      <td>1036.74</td>\n",
       "      <td>54454.85</td>\n",
       "      <td>48.16</td>\n",
       "      <td>8696.87</td>\n",
       "      <td>8603.62</td>\n",
       "      <td>93.25</td>\n",
       "      <td>0.0</td>\n",
       "      <td>conventional</td>\n",
       "      <td>2015</td>\n",
       "      <td>Albany</td>\n",
       "    </tr>\n",
       "    <tr>\n",
       "      <th>1</th>\n",
       "      <td>1</td>\n",
       "      <td>2015-12-20</td>\n",
       "      <td>1.35</td>\n",
       "      <td>54876.98</td>\n",
       "      <td>674.28</td>\n",
       "      <td>44638.81</td>\n",
       "      <td>58.33</td>\n",
       "      <td>9505.56</td>\n",
       "      <td>9408.07</td>\n",
       "      <td>97.49</td>\n",
       "      <td>0.0</td>\n",
       "      <td>conventional</td>\n",
       "      <td>2015</td>\n",
       "      <td>Albany</td>\n",
       "    </tr>\n",
       "    <tr>\n",
       "      <th>2</th>\n",
       "      <td>2</td>\n",
       "      <td>2015-12-13</td>\n",
       "      <td>0.93</td>\n",
       "      <td>118220.22</td>\n",
       "      <td>794.70</td>\n",
       "      <td>109149.67</td>\n",
       "      <td>130.50</td>\n",
       "      <td>8145.35</td>\n",
       "      <td>8042.21</td>\n",
       "      <td>103.14</td>\n",
       "      <td>0.0</td>\n",
       "      <td>conventional</td>\n",
       "      <td>2015</td>\n",
       "      <td>Albany</td>\n",
       "    </tr>\n",
       "    <tr>\n",
       "      <th>3</th>\n",
       "      <td>3</td>\n",
       "      <td>2015-12-06</td>\n",
       "      <td>1.08</td>\n",
       "      <td>78992.15</td>\n",
       "      <td>1132.00</td>\n",
       "      <td>71976.41</td>\n",
       "      <td>72.58</td>\n",
       "      <td>5811.16</td>\n",
       "      <td>5677.40</td>\n",
       "      <td>133.76</td>\n",
       "      <td>0.0</td>\n",
       "      <td>conventional</td>\n",
       "      <td>2015</td>\n",
       "      <td>Albany</td>\n",
       "    </tr>\n",
       "    <tr>\n",
       "      <th>4</th>\n",
       "      <td>4</td>\n",
       "      <td>2015-11-29</td>\n",
       "      <td>1.28</td>\n",
       "      <td>51039.60</td>\n",
       "      <td>941.48</td>\n",
       "      <td>43838.39</td>\n",
       "      <td>75.78</td>\n",
       "      <td>6183.95</td>\n",
       "      <td>5986.26</td>\n",
       "      <td>197.69</td>\n",
       "      <td>0.0</td>\n",
       "      <td>conventional</td>\n",
       "      <td>2015</td>\n",
       "      <td>Albany</td>\n",
       "    </tr>\n",
       "    <tr>\n",
       "      <th>...</th>\n",
       "      <td>...</td>\n",
       "      <td>...</td>\n",
       "      <td>...</td>\n",
       "      <td>...</td>\n",
       "      <td>...</td>\n",
       "      <td>...</td>\n",
       "      <td>...</td>\n",
       "      <td>...</td>\n",
       "      <td>...</td>\n",
       "      <td>...</td>\n",
       "      <td>...</td>\n",
       "      <td>...</td>\n",
       "      <td>...</td>\n",
       "      <td>...</td>\n",
       "    </tr>\n",
       "    <tr>\n",
       "      <th>18244</th>\n",
       "      <td>7</td>\n",
       "      <td>2018-02-04</td>\n",
       "      <td>1.63</td>\n",
       "      <td>17074.83</td>\n",
       "      <td>2046.96</td>\n",
       "      <td>1529.20</td>\n",
       "      <td>0.00</td>\n",
       "      <td>13498.67</td>\n",
       "      <td>13066.82</td>\n",
       "      <td>431.85</td>\n",
       "      <td>0.0</td>\n",
       "      <td>organic</td>\n",
       "      <td>2018</td>\n",
       "      <td>WestTexNewMexico</td>\n",
       "    </tr>\n",
       "    <tr>\n",
       "      <th>18245</th>\n",
       "      <td>8</td>\n",
       "      <td>2018-01-28</td>\n",
       "      <td>1.71</td>\n",
       "      <td>13888.04</td>\n",
       "      <td>1191.70</td>\n",
       "      <td>3431.50</td>\n",
       "      <td>0.00</td>\n",
       "      <td>9264.84</td>\n",
       "      <td>8940.04</td>\n",
       "      <td>324.80</td>\n",
       "      <td>0.0</td>\n",
       "      <td>organic</td>\n",
       "      <td>2018</td>\n",
       "      <td>WestTexNewMexico</td>\n",
       "    </tr>\n",
       "    <tr>\n",
       "      <th>18246</th>\n",
       "      <td>9</td>\n",
       "      <td>2018-01-21</td>\n",
       "      <td>1.87</td>\n",
       "      <td>13766.76</td>\n",
       "      <td>1191.92</td>\n",
       "      <td>2452.79</td>\n",
       "      <td>727.94</td>\n",
       "      <td>9394.11</td>\n",
       "      <td>9351.80</td>\n",
       "      <td>42.31</td>\n",
       "      <td>0.0</td>\n",
       "      <td>organic</td>\n",
       "      <td>2018</td>\n",
       "      <td>WestTexNewMexico</td>\n",
       "    </tr>\n",
       "    <tr>\n",
       "      <th>18247</th>\n",
       "      <td>10</td>\n",
       "      <td>2018-01-14</td>\n",
       "      <td>1.93</td>\n",
       "      <td>16205.22</td>\n",
       "      <td>1527.63</td>\n",
       "      <td>2981.04</td>\n",
       "      <td>727.01</td>\n",
       "      <td>10969.54</td>\n",
       "      <td>10919.54</td>\n",
       "      <td>50.00</td>\n",
       "      <td>0.0</td>\n",
       "      <td>organic</td>\n",
       "      <td>2018</td>\n",
       "      <td>WestTexNewMexico</td>\n",
       "    </tr>\n",
       "    <tr>\n",
       "      <th>18248</th>\n",
       "      <td>11</td>\n",
       "      <td>2018-01-07</td>\n",
       "      <td>1.62</td>\n",
       "      <td>17489.58</td>\n",
       "      <td>2894.77</td>\n",
       "      <td>2356.13</td>\n",
       "      <td>224.53</td>\n",
       "      <td>12014.15</td>\n",
       "      <td>11988.14</td>\n",
       "      <td>26.01</td>\n",
       "      <td>0.0</td>\n",
       "      <td>organic</td>\n",
       "      <td>2018</td>\n",
       "      <td>WestTexNewMexico</td>\n",
       "    </tr>\n",
       "  </tbody>\n",
       "</table>\n",
       "<p>18249 rows × 14 columns</p>\n",
       "</div>"
      ],
      "text/plain": [
       "       Unnamed: 0        Date  AveragePrice  Total Volume     4046       4225  \\\n",
       "0               0  2015-12-27          1.33      64236.62  1036.74   54454.85   \n",
       "1               1  2015-12-20          1.35      54876.98   674.28   44638.81   \n",
       "2               2  2015-12-13          0.93     118220.22   794.70  109149.67   \n",
       "3               3  2015-12-06          1.08      78992.15  1132.00   71976.41   \n",
       "4               4  2015-11-29          1.28      51039.60   941.48   43838.39   \n",
       "...           ...         ...           ...           ...      ...        ...   \n",
       "18244           7  2018-02-04          1.63      17074.83  2046.96    1529.20   \n",
       "18245           8  2018-01-28          1.71      13888.04  1191.70    3431.50   \n",
       "18246           9  2018-01-21          1.87      13766.76  1191.92    2452.79   \n",
       "18247          10  2018-01-14          1.93      16205.22  1527.63    2981.04   \n",
       "18248          11  2018-01-07          1.62      17489.58  2894.77    2356.13   \n",
       "\n",
       "         4770  Total Bags  Small Bags  Large Bags  XLarge Bags          type  \\\n",
       "0       48.16     8696.87     8603.62       93.25          0.0  conventional   \n",
       "1       58.33     9505.56     9408.07       97.49          0.0  conventional   \n",
       "2      130.50     8145.35     8042.21      103.14          0.0  conventional   \n",
       "3       72.58     5811.16     5677.40      133.76          0.0  conventional   \n",
       "4       75.78     6183.95     5986.26      197.69          0.0  conventional   \n",
       "...       ...         ...         ...         ...          ...           ...   \n",
       "18244    0.00    13498.67    13066.82      431.85          0.0       organic   \n",
       "18245    0.00     9264.84     8940.04      324.80          0.0       organic   \n",
       "18246  727.94     9394.11     9351.80       42.31          0.0       organic   \n",
       "18247  727.01    10969.54    10919.54       50.00          0.0       organic   \n",
       "18248  224.53    12014.15    11988.14       26.01          0.0       organic   \n",
       "\n",
       "       year            region  \n",
       "0      2015            Albany  \n",
       "1      2015            Albany  \n",
       "2      2015            Albany  \n",
       "3      2015            Albany  \n",
       "4      2015            Albany  \n",
       "...     ...               ...  \n",
       "18244  2018  WestTexNewMexico  \n",
       "18245  2018  WestTexNewMexico  \n",
       "18246  2018  WestTexNewMexico  \n",
       "18247  2018  WestTexNewMexico  \n",
       "18248  2018  WestTexNewMexico  \n",
       "\n",
       "[18249 rows x 14 columns]"
      ]
     },
     "execution_count": 3,
     "metadata": {},
     "output_type": "execute_result"
    }
   ],
   "source": [
    "df"
   ]
  },
  {
   "cell_type": "code",
   "execution_count": 81,
   "metadata": {},
   "outputs": [
    {
     "data": {
      "text/plain": [
       "Text(0.5, 1.0, 'Average Price')"
      ]
     },
     "execution_count": 81,
     "metadata": {},
     "output_type": "execute_result"
    },
    {
     "data": {
      "image/png": "[encoded data removed]",
      "text/plain": [
       "<Figure size 864x576 with 1 Axes>"
      ]
     },
     "metadata": {
      "needs_background": "light"
     },
     "output_type": "display_data"
    }
   ],
   "source": [
    "byDate=df.groupby('Date').mean()\n",
    "plt.figure(figsize=(12,8))\n",
    "byDate['AveragePrice'].plot()\n",
    "plt.title('Average Price')"
   ]
  },
  {
   "cell_type": "code",
   "execution_count": 4,
   "metadata": {},
   "outputs": [],
   "source": [
    "def converter(cluster):\n",
    "    if cluster=='conventional':\n",
    "        return 1\n",
    "    else:\n",
    "        return 0"
   ]
  },
  {
   "cell_type": "code",
   "execution_count": 5,
   "metadata": {},
   "outputs": [],
   "source": [
    "df['Cluster'] = df['type'].apply(converter)"
   ]
  },
  {
   "cell_type": "code",
   "execution_count": 6,
   "metadata": {},
   "outputs": [],
   "source": [
    "df.drop('Unnamed: 0',axis=1,inplace=True)\n",
    "df.drop('Date',axis=1,inplace=True)\n",
    "df.drop('type',axis=1,inplace=True)\n",
    "df.drop('region',axis=1,inplace=True)"
   ]
  },
  {
   "cell_type": "code",
   "execution_count": 7,
   "metadata": {},
   "outputs": [
    {
     "data": {
      "text/html": [
       "<div>\n",
       "<style scoped>\n",
       "    .dataframe tbody tr th:only-of-type {\n",
       "        vertical-align: middle;\n",
       "    }\n",
       "\n",
       "    .dataframe tbody tr th {\n",
       "        vertical-align: top;\n",
       "    }\n",
       "\n",
       "    .dataframe thead th {\n",
       "        text-align: right;\n",
       "    }\n",
       "</style>\n",
       "<table border=\"1\" class=\"dataframe\">\n",
       "  <thead>\n",
       "    <tr style=\"text-align: right;\">\n",
       "      <th></th>\n",
       "      <th>AveragePrice</th>\n",
       "      <th>Total Volume</th>\n",
       "      <th>4046</th>\n",
       "      <th>4225</th>\n",
       "      <th>4770</th>\n",
       "      <th>Total Bags</th>\n",
       "      <th>Small Bags</th>\n",
       "      <th>Large Bags</th>\n",
       "      <th>XLarge Bags</th>\n",
       "      <th>year</th>\n",
       "      <th>Cluster</th>\n",
       "    </tr>\n",
       "  </thead>\n",
       "  <tbody>\n",
       "    <tr>\n",
       "      <th>0</th>\n",
       "      <td>1.33</td>\n",
       "      <td>64236.62</td>\n",
       "      <td>1036.74</td>\n",
       "      <td>54454.85</td>\n",
       "      <td>48.16</td>\n",
       "      <td>8696.87</td>\n",
       "      <td>8603.62</td>\n",
       "      <td>93.25</td>\n",
       "      <td>0.0</td>\n",
       "      <td>2015</td>\n",
       "      <td>1</td>\n",
       "    </tr>\n",
       "    <tr>\n",
       "      <th>1</th>\n",
       "      <td>1.35</td>\n",
       "      <td>54876.98</td>\n",
       "      <td>674.28</td>\n",
       "      <td>44638.81</td>\n",
       "      <td>58.33</td>\n",
       "      <td>9505.56</td>\n",
       "      <td>9408.07</td>\n",
       "      <td>97.49</td>\n",
       "      <td>0.0</td>\n",
       "      <td>2015</td>\n",
       "      <td>1</td>\n",
       "    </tr>\n",
       "    <tr>\n",
       "      <th>2</th>\n",
       "      <td>0.93</td>\n",
       "      <td>118220.22</td>\n",
       "      <td>794.70</td>\n",
       "      <td>109149.67</td>\n",
       "      <td>130.50</td>\n",
       "      <td>8145.35</td>\n",
       "      <td>8042.21</td>\n",
       "      <td>103.14</td>\n",
       "      <td>0.0</td>\n",
       "      <td>2015</td>\n",
       "      <td>1</td>\n",
       "    </tr>\n",
       "    <tr>\n",
       "      <th>3</th>\n",
       "      <td>1.08</td>\n",
       "      <td>78992.15</td>\n",
       "      <td>1132.00</td>\n",
       "      <td>71976.41</td>\n",
       "      <td>72.58</td>\n",
       "      <td>5811.16</td>\n",
       "      <td>5677.40</td>\n",
       "      <td>133.76</td>\n",
       "      <td>0.0</td>\n",
       "      <td>2015</td>\n",
       "      <td>1</td>\n",
       "    </tr>\n",
       "    <tr>\n",
       "      <th>4</th>\n",
       "      <td>1.28</td>\n",
       "      <td>51039.60</td>\n",
       "      <td>941.48</td>\n",
       "      <td>43838.39</td>\n",
       "      <td>75.78</td>\n",
       "      <td>6183.95</td>\n",
       "      <td>5986.26</td>\n",
       "      <td>197.69</td>\n",
       "      <td>0.0</td>\n",
       "      <td>2015</td>\n",
       "      <td>1</td>\n",
       "    </tr>\n",
       "  </tbody>\n",
       "</table>\n",
       "</div>"
      ],
      "text/plain": [
       "   AveragePrice  Total Volume     4046       4225    4770  Total Bags  \\\n",
       "0          1.33      64236.62  1036.74   54454.85   48.16     8696.87   \n",
       "1          1.35      54876.98   674.28   44638.81   58.33     9505.56   \n",
       "2          0.93     118220.22   794.70  109149.67  130.50     8145.35   \n",
       "3          1.08      78992.15  1132.00   71976.41   72.58     5811.16   \n",
       "4          1.28      51039.60   941.48   43838.39   75.78     6183.95   \n",
       "\n",
       "   Small Bags  Large Bags  XLarge Bags  year  Cluster  \n",
       "0     8603.62       93.25          0.0  2015        1  \n",
       "1     9408.07       97.49          0.0  2015        1  \n",
       "2     8042.21      103.14          0.0  2015        1  \n",
       "3     5677.40      133.76          0.0  2015        1  \n",
       "4     5986.26      197.69          0.0  2015        1  "
      ]
     },
     "execution_count": 7,
     "metadata": {},
     "output_type": "execute_result"
    }
   ],
   "source": [
    "df.head()"
   ]
  },
  {
   "cell_type": "code",
   "execution_count": 8,
   "metadata": {},
   "outputs": [],
   "source": [
    "# we wanna look at average price and be able to pridict it for future dates"
   ]
  },
  {
   "cell_type": "code",
   "execution_count": 9,
   "metadata": {},
   "outputs": [],
   "source": [
    "# convert it into array for machine processing\n",
    "dataset = df.values"
   ]
  },
  {
   "cell_type": "code",
   "execution_count": 10,
   "metadata": {},
   "outputs": [
    {
     "data": {
      "text/plain": [
       "array([[1.3300000e+00, 6.4236620e+04, 1.0367400e+03, ..., 0.0000000e+00,\n",
       "        2.0150000e+03, 1.0000000e+00],\n",
       "       [1.3500000e+00, 5.4876980e+04, 6.7428000e+02, ..., 0.0000000e+00,\n",
       "        2.0150000e+03, 1.0000000e+00],\n",
       "       [9.3000000e-01, 1.1822022e+05, 7.9470000e+02, ..., 0.0000000e+00,\n",
       "        2.0150000e+03, 1.0000000e+00],\n",
       "       ...,\n",
       "       [1.8700000e+00, 1.3766760e+04, 1.1919200e+03, ..., 0.0000000e+00,\n",
       "        2.0180000e+03, 0.0000000e+00],\n",
       "       [1.9300000e+00, 1.6205220e+04, 1.5276300e+03, ..., 0.0000000e+00,\n",
       "        2.0180000e+03, 0.0000000e+00],\n",
       "       [1.6200000e+00, 1.7489580e+04, 2.8947700e+03, ..., 0.0000000e+00,\n",
       "        2.0180000e+03, 0.0000000e+00]])"
      ]
     },
     "execution_count": 10,
     "metadata": {},
     "output_type": "execute_result"
    }
   ],
   "source": [
    "dataset"
   ]
  },
  {
   "cell_type": "code",
   "execution_count": 408,
   "metadata": {},
   "outputs": [],
   "source": [
    "# Everything before the comma refers to the rows of the array and \n",
    "# everything after the comma refers to the columns of the arrays.\n",
    "\n",
    "X = dataset[:,0:10]\n"
   ]
  },
  {
   "cell_type": "code",
   "execution_count": 409,
   "metadata": {},
   "outputs": [],
   "source": [
    "Y = dataset[:,10]\n"
   ]
  },
  {
   "cell_type": "code",
   "execution_count": 410,
   "metadata": {},
   "outputs": [],
   "source": [
    "from sklearn import preprocessing\n"
   ]
  },
  {
   "cell_type": "code",
   "execution_count": 411,
   "metadata": {},
   "outputs": [],
   "source": [
    "min_max_scaler = preprocessing.MinMaxScaler()\n",
    "X_scale = min_max_scaler.fit_transform(X)\n"
   ]
  },
  {
   "cell_type": "code",
   "execution_count": 412,
   "metadata": {},
   "outputs": [
    {
     "data": {
      "text/plain": [
       "array([[3.16725979e-01, 1.02634162e-03, 4.55837802e-05, ...,\n",
       "        1.63050227e-05, 0.00000000e+00, 0.00000000e+00],\n",
       "       [3.23843416e-01, 8.76600710e-04, 2.96470005e-05, ...,\n",
       "        1.70463985e-05, 0.00000000e+00, 0.00000000e+00],\n",
       "       [1.74377224e-01, 1.89000237e-03, 3.49416730e-05, ...,\n",
       "        1.80343168e-05, 0.00000000e+00, 0.00000000e+00],\n",
       "       ...,\n",
       "       [5.08896797e-01, 2.18895720e-04, 5.24067937e-05, ...,\n",
       "        7.39802156e-06, 0.00000000e+00, 1.00000000e+00],\n",
       "       [5.30249110e-01, 2.57907608e-04, 6.71674191e-05, ...,\n",
       "        8.74263951e-06, 0.00000000e+00, 1.00000000e+00],\n",
       "       [4.19928826e-01, 2.78455540e-04, 1.27278353e-04, ...,\n",
       "        4.54792107e-06, 0.00000000e+00, 1.00000000e+00]])"
      ]
     },
     "execution_count": 412,
     "metadata": {},
     "output_type": "execute_result"
    }
   ],
   "source": [
    "X_scale"
   ]
  },
  {
   "cell_type": "code",
   "execution_count": 413,
   "metadata": {},
   "outputs": [
    {
     "name": "stdout",
     "output_type": "stream",
     "text": [
      "(12774, 10) (2737, 10) (2738, 10) (12774,) (2737,) (2738,)\n"
     ]
    }
   ],
   "source": [
    "from sklearn.model_selection import train_test_split\n",
    "# dataset split into two\n",
    "X_train, X_val_and_test, Y_train, Y_val_and_test = train_test_split(X_scale, Y, test_size=0.3)\n",
    "\n",
    "# we want a separate validation set and test set\n",
    "X_val, X_test, Y_val, Y_test = train_test_split(X_val_and_test, Y_val_and_test, test_size=0.5)\n",
    "\n",
    "#X_train (10 input features, 70% of full dataset)\n",
    "#X_val (10 input features, 15% of full dataset)\n",
    "#X_test (10 input features, 15% of full dataset)\n",
    "#Y_train (1 label, 70% of full dataset)\n",
    "#Y_val (1 label, 15% of full dataset)\n",
    "#Y_test (1 label, 15% of full dataset)\n",
    "\n",
    "print(X_train.shape, X_val.shape, X_test.shape, Y_train.shape, Y_val.shape, Y_test.shape)\n"
   ]
  },
  {
   "cell_type": "code",
   "execution_count": 414,
   "metadata": {},
   "outputs": [],
   "source": [
    "# builfing # setup "
   ]
  },
  {
   "cell_type": "code",
   "execution_count": 415,
   "metadata": {},
   "outputs": [],
   "source": [
    "from keras.models import Sequential\n",
    "from keras.models import Sequential\n",
    "from keras.layers import Dense , Dropout , Lambda, Flatten\n",
    "from keras.optimizers import Adam ,RMSprop\n",
    "from sklearn.model_selection import train_test_split\n",
    "from keras import  backend as K\n",
    "from keras.preprocessing.image import ImageDataGenerator\n",
    "\n"
   ]
  },
  {
   "cell_type": "code",
   "execution_count": 416,
   "metadata": {},
   "outputs": [],
   "source": [
    "model = Sequential([Dense(32, activation='relu', input_shape=(10,)),\n",
    "                    Dense(32, activation='relu'),\n",
    "                    Dense(1, activation='sigmoid'),])\n"
   ]
  },
  {
   "cell_type": "code",
   "execution_count": 417,
   "metadata": {},
   "outputs": [],
   "source": [
    "# model = Sequential([ ... ]) - \n",
    "# says that we will store our model in the variable ‘model’, \n",
    "# sequentially (layer by layer) in between the square brackets.\n",
    "\n",
    "# first layer\n",
    "# Dense(32, activation='relu', input_shape=(10,)),\n",
    "# first layer as a dense layer with 32 neurons, ReLU activation \n",
    "# and the input shape is 8 since we have 8 input features. \n",
    "\n",
    "# second layer\n",
    "# Dense(32, activation='relu'),\n",
    "# second layer is also a dense layer with 32 neurons, ReLU activation.\n",
    "# Note that we do not have to describe the input shape since Keras \n",
    "# can infer from the output of our first layer.\n",
    "\n",
    "# third layer\n",
    "# Dense(1, activation='sigmoid'),\n",
    "# Our third layer is a dense layer with 1 neuron, sigmoid activation.\n",
    "\n",
    "\n"
   ]
  },
  {
   "cell_type": "code",
   "execution_count": 418,
   "metadata": {},
   "outputs": [],
   "source": [
    "model.compile(optimizer='sgd',\n",
    "              loss='binary_crossentropy',\n",
    "              metrics=['accuracy'])\n",
    "\n",
    "# the brackets hold the following settings \n",
    "\n",
    "# optimizer='sgd'\n",
    "# ‘sgd’ refers to stochastic gradient descent \n",
    "# here, it refers to mini-batch gradient descent\n",
    "\n",
    "# loss='binary_crossentropy'\n",
    "# The loss function for outputs that take the values 1 or 0 \n",
    "# is called binary cross entropy.\n",
    "\n",
    "# metrics=['accuracy']\n",
    "# want to track accuracy on top of the loss function. \n"
   ]
  },
  {
   "cell_type": "code",
   "execution_count": 424,
   "metadata": {},
   "outputs": [
    {
     "name": "stdout",
     "output_type": "stream",
     "text": [
      "Train on 12774 samples, validate on 2737 samples\n",
      "Epoch 1/50\n",
      "12774/12774 [==============================] - 0s 5us/step - loss: 0.6151 - accuracy: 0.8023 - val_loss: 0.6141 - val_accuracy: 0.7994\n",
      "Epoch 2/50\n",
      "12774/12774 [==============================] - 0s 9us/step - loss: 0.6125 - accuracy: 0.8048 - val_loss: 0.6115 - val_accuracy: 0.8009\n",
      "Epoch 3/50\n",
      "12774/12774 [==============================] - 0s 7us/step - loss: 0.6099 - accuracy: 0.8061 - val_loss: 0.6087 - val_accuracy: 0.8012\n",
      "Epoch 4/50\n",
      "12774/12774 [==============================] - 0s 7us/step - loss: 0.6072 - accuracy: 0.8044 - val_loss: 0.6060 - val_accuracy: 0.8012\n",
      "Epoch 5/50\n",
      "12774/12774 [==============================] - 0s 6us/step - loss: 0.6045 - accuracy: 0.8058 - val_loss: 0.6033 - val_accuracy: 0.8001\n",
      "Epoch 6/50\n",
      "12774/12774 [==============================] - 0s 6us/step - loss: 0.6017 - accuracy: 0.8062 - val_loss: 0.6004 - val_accuracy: 0.8001\n",
      "Epoch 7/50\n",
      "12774/12774 [==============================] - 0s 6us/step - loss: 0.5988 - accuracy: 0.8064 - val_loss: 0.5975 - val_accuracy: 0.8009\n",
      "Epoch 8/50\n",
      "12774/12774 [==============================] - 0s 5us/step - loss: 0.5959 - accuracy: 0.8071 - val_loss: 0.5945 - val_accuracy: 0.8016\n",
      "Epoch 9/50\n",
      "12774/12774 [==============================] - 0s 5us/step - loss: 0.5929 - accuracy: 0.8072 - val_loss: 0.5914 - val_accuracy: 0.8031\n",
      "Epoch 10/50\n",
      "12774/12774 [==============================] - 0s 5us/step - loss: 0.5898 - accuracy: 0.8070 - val_loss: 0.5882 - val_accuracy: 0.8038\n",
      "Epoch 11/50\n",
      "12774/12774 [==============================] - 0s 6us/step - loss: 0.5866 - accuracy: 0.8058 - val_loss: 0.5848 - val_accuracy: 0.8042\n",
      "Epoch 12/50\n",
      "12774/12774 [==============================] - 0s 4us/step - loss: 0.5831 - accuracy: 0.8077 - val_loss: 0.5813 - val_accuracy: 0.8053\n",
      "Epoch 13/50\n",
      "12774/12774 [==============================] - 0s 5us/step - loss: 0.5798 - accuracy: 0.8088 - val_loss: 0.5780 - val_accuracy: 0.8053\n",
      "Epoch 14/50\n",
      "12774/12774 [==============================] - 0s 9us/step - loss: 0.5765 - accuracy: 0.8091 - val_loss: 0.5747 - val_accuracy: 0.8064\n",
      "Epoch 15/50\n",
      "12774/12774 [==============================] - 0s 6us/step - loss: 0.5732 - accuracy: 0.8095 - val_loss: 0.5715 - val_accuracy: 0.8060\n",
      "Epoch 16/50\n",
      "12774/12774 [==============================] - 0s 5us/step - loss: 0.5698 - accuracy: 0.8096 - val_loss: 0.5681 - val_accuracy: 0.8064\n",
      "Epoch 17/50\n",
      "12774/12774 [==============================] - 0s 6us/step - loss: 0.5664 - accuracy: 0.8102 - val_loss: 0.5646 - val_accuracy: 0.8064\n",
      "Epoch 18/50\n",
      "12774/12774 [==============================] - 0s 5us/step - loss: 0.5630 - accuracy: 0.8105 - val_loss: 0.5612 - val_accuracy: 0.8075\n",
      "Epoch 19/50\n",
      "12774/12774 [==============================] - 0s 5us/step - loss: 0.5595 - accuracy: 0.8104 - val_loss: 0.5576 - val_accuracy: 0.8078\n",
      "Epoch 20/50\n",
      "12774/12774 [==============================] - 0s 5us/step - loss: 0.5560 - accuracy: 0.8105 - val_loss: 0.5540 - val_accuracy: 0.8078\n",
      "Epoch 21/50\n",
      "12774/12774 [==============================] - 0s 5us/step - loss: 0.5525 - accuracy: 0.8115 - val_loss: 0.5505 - val_accuracy: 0.8082\n",
      "Epoch 22/50\n",
      "12774/12774 [==============================] - 0s 5us/step - loss: 0.5490 - accuracy: 0.8113 - val_loss: 0.5470 - val_accuracy: 0.8082\n",
      "Epoch 23/50\n",
      "12774/12774 [==============================] - 0s 5us/step - loss: 0.5455 - accuracy: 0.8108 - val_loss: 0.5436 - val_accuracy: 0.8100\n",
      "Epoch 24/50\n",
      "12774/12774 [==============================] - 0s 5us/step - loss: 0.5419 - accuracy: 0.8110 - val_loss: 0.5400 - val_accuracy: 0.8100\n",
      "Epoch 25/50\n",
      "12774/12774 [==============================] - 0s 5us/step - loss: 0.5384 - accuracy: 0.8111 - val_loss: 0.5366 - val_accuracy: 0.8085\n",
      "Epoch 26/50\n",
      "12774/12774 [==============================] - 0s 8us/step - loss: 0.5349 - accuracy: 0.8121 - val_loss: 0.5331 - val_accuracy: 0.8089\n",
      "Epoch 27/50\n",
      "12774/12774 [==============================] - 0s 7us/step - loss: 0.5315 - accuracy: 0.8107 - val_loss: 0.5297 - val_accuracy: 0.8093\n",
      "Epoch 28/50\n",
      "12774/12774 [==============================] - 0s 5us/step - loss: 0.5280 - accuracy: 0.8113 - val_loss: 0.5262 - val_accuracy: 0.8093\n",
      "Epoch 29/50\n",
      "12774/12774 [==============================] - 0s 5us/step - loss: 0.5246 - accuracy: 0.8107 - val_loss: 0.5228 - val_accuracy: 0.8096\n",
      "Epoch 30/50\n",
      "12774/12774 [==============================] - 0s 6us/step - loss: 0.5211 - accuracy: 0.8109 - val_loss: 0.5192 - val_accuracy: 0.8089\n",
      "Epoch 31/50\n",
      "12774/12774 [==============================] - 0s 5us/step - loss: 0.5177 - accuracy: 0.8115 - val_loss: 0.5158 - val_accuracy: 0.8089\n",
      "Epoch 32/50\n",
      "12774/12774 [==============================] - 0s 4us/step - loss: 0.5142 - accuracy: 0.8103 - val_loss: 0.5123 - val_accuracy: 0.8085\n",
      "Epoch 33/50\n",
      "12774/12774 [==============================] - 0s 5us/step - loss: 0.5108 - accuracy: 0.8104 - val_loss: 0.5090 - val_accuracy: 0.8085\n",
      "Epoch 34/50\n",
      "12774/12774 [==============================] - 0s 5us/step - loss: 0.5074 - accuracy: 0.8110 - val_loss: 0.5056 - val_accuracy: 0.8093\n",
      "Epoch 35/50\n",
      "12774/12774 [==============================] - 0s 5us/step - loss: 0.5040 - accuracy: 0.8108 - val_loss: 0.5022 - val_accuracy: 0.8104\n",
      "Epoch 36/50\n",
      "12774/12774 [==============================] - 0s 5us/step - loss: 0.5008 - accuracy: 0.8113 - val_loss: 0.4990 - val_accuracy: 0.8078\n",
      "Epoch 37/50\n",
      "12774/12774 [==============================] - 0s 7us/step - loss: 0.4977 - accuracy: 0.8104 - val_loss: 0.4960 - val_accuracy: 0.8107\n",
      "Epoch 38/50\n",
      "12774/12774 [==============================] - 0s 8us/step - loss: 0.4948 - accuracy: 0.8109 - val_loss: 0.4930 - val_accuracy: 0.8089\n",
      "Epoch 39/50\n",
      "12774/12774 [==============================] - 0s 5us/step - loss: 0.4919 - accuracy: 0.8106 - val_loss: 0.4902 - val_accuracy: 0.8082\n",
      "Epoch 40/50\n",
      "12774/12774 [==============================] - 0s 5us/step - loss: 0.4891 - accuracy: 0.8108 - val_loss: 0.4875 - val_accuracy: 0.8096\n",
      "Epoch 41/50\n",
      "12774/12774 [==============================] - 0s 5us/step - loss: 0.4864 - accuracy: 0.8108 - val_loss: 0.4847 - val_accuracy: 0.8082\n",
      "Epoch 42/50\n",
      "12774/12774 [==============================] - 0s 5us/step - loss: 0.4837 - accuracy: 0.8103 - val_loss: 0.4821 - val_accuracy: 0.8089\n",
      "Epoch 43/50\n",
      "12774/12774 [==============================] - 0s 5us/step - loss: 0.4812 - accuracy: 0.8113 - val_loss: 0.4795 - val_accuracy: 0.8082\n",
      "Epoch 44/50\n",
      "12774/12774 [==============================] - 0s 4us/step - loss: 0.4787 - accuracy: 0.8115 - val_loss: 0.4770 - val_accuracy: 0.8089\n",
      "Epoch 45/50\n",
      "12774/12774 [==============================] - 0s 4us/step - loss: 0.4763 - accuracy: 0.8112 - val_loss: 0.4746 - val_accuracy: 0.8082\n",
      "Epoch 46/50\n",
      "12774/12774 [==============================] - 0s 5us/step - loss: 0.4740 - accuracy: 0.8110 - val_loss: 0.4724 - val_accuracy: 0.8082\n",
      "Epoch 47/50\n",
      "12774/12774 [==============================] - 0s 7us/step - loss: 0.4717 - accuracy: 0.8101 - val_loss: 0.4703 - val_accuracy: 0.8111\n",
      "Epoch 48/50\n",
      "12774/12774 [==============================] - 0s 6us/step - loss: 0.4695 - accuracy: 0.8112 - val_loss: 0.4681 - val_accuracy: 0.8111\n",
      "Epoch 49/50\n",
      "12774/12774 [==============================] - 0s 8us/step - loss: 0.4674 - accuracy: 0.8115 - val_loss: 0.4659 - val_accuracy: 0.8082\n",
      "Epoch 50/50\n",
      "12774/12774 [==============================] - 0s 7us/step - loss: 0.4653 - accuracy: 0.8115 - val_loss: 0.4640 - val_accuracy: 0.8115\n"
     ]
    }
   ],
   "source": [
    "hist = model.fit(X_train, Y_train, batch_size=500, epochs=50,\n",
    "                 validation_data=(X_val, Y_val))\n"
   ]
  },
  {
   "cell_type": "code",
   "execution_count": 425,
   "metadata": {},
   "outputs": [
    {
     "name": "stdout",
     "output_type": "stream",
     "text": [
      "2738/2738 [==============================] - 0s 22us/step\n"
     ]
    },
    {
     "data": {
      "text/plain": [
       "0.7940102219581604"
      ]
     },
     "execution_count": 425,
     "metadata": {},
     "output_type": "execute_result"
    }
   ],
   "source": [
    "model.evaluate(X_test, Y_test)[1]\n",
    "\n",
    "# evaluate model on the test set. \n",
    "# To find the accuracy on our test set\n",
    "\n",
    "# the index 1 after the model.evaluate function is because function \n",
    "# returns the loss as the first element and the accuracy as the \n",
    "# second element. \n",
    "# only output the accuracy, simply access the second element \n",
    "# (which is indexed by 1, since the first element starts its indexing from 0).\n",
    "\n",
    "# first try gave 82% in test accuracy which is good but we want to be closer to 100\n"
   ]
  },
  {
   "cell_type": "code",
   "execution_count": 426,
   "metadata": {},
   "outputs": [],
   "source": [
    "# function ‘fit’ is called, we are fitting the parameters to the data. \n",
    "# We have to specify what data we are training on, \n",
    "# which is X_train and Y_train. \n",
    "# Then, we specify the size of our mini-batch and how long we \n",
    "# want to train it for (epochs). \n",
    "# we specify what our validation data is so that the model will \n",
    "# tell us how we are doing on the validation data at each point. \n",
    "# function will output a history, we save under the variable hist. \n",
    "# We’ll use this variable a little later when we get to visualization.\n",
    "\n",
    "# see that the model is training! \n",
    "# the numbers show the loss decrease and the accuracy increase \n",
    "# you can experiment with the hyper-parameters and neural network \n",
    "# architecture. "
   ]
  },
  {
   "cell_type": "code",
   "execution_count": 427,
   "metadata": {},
   "outputs": [],
   "source": [
    "# Visualizing Loss and Accuracy#"
   ]
  },
  {
   "cell_type": "code",
   "execution_count": 428,
   "metadata": {},
   "outputs": [],
   "source": [
    "import matplotlib.pyplot as plt\n"
   ]
  },
  {
   "cell_type": "code",
   "execution_count": 429,
   "metadata": {},
   "outputs": [
    {
     "data": {
      "image/png": "[encoded data removed]",
      "text/plain": [
       "<Figure size 432x288 with 1 Axes>"
      ]
     },
     "metadata": {
      "needs_background": "light"
     },
     "output_type": "display_data"
    }
   ],
   "source": [
    "plt.plot(hist.history['loss'])\n",
    "plt.plot(hist.history['val_loss'])\n",
    "plt.title('Model loss')\n",
    "plt.ylabel('Loss')\n",
    "plt.xlabel('Epoch')\n",
    "plt.legend(['Train', 'Val'], loc='upper right')\n",
    "plt.show()\n"
   ]
  },
  {
   "cell_type": "code",
   "execution_count": 430,
   "metadata": {},
   "outputs": [
    {
     "data": {
      "image/png": "[encoded data removed]",
      "text/plain": [
       "<Figure size 432x288 with 1 Axes>"
      ]
     },
     "metadata": {
      "needs_background": "light"
     },
     "output_type": "display_data"
    }
   ],
   "source": [
    "plt.plot(hist.history['accuracy'])\n",
    "plt.plot(hist.history['val_accuracy'])\n",
    "plt.title('Model accuracy')\n",
    "plt.ylabel('Accuracy')\n",
    "plt.xlabel('Epoch')\n",
    "plt.legend(['Train', 'Val'], loc='lower right')\n",
    "plt.show()\n"
   ]
  },
  {
   "cell_type": "code",
   "execution_count": 423,
   "metadata": {},
   "outputs": [],
   "source": [
    "# Since improvements model looks somewhat matched up with improvements\n",
    "# to the validation set, it doesn’t seem like overfitting is a \n",
    "# huge problem in our model.\n"
   ]
  },
  {
   "cell_type": "code",
   "execution_count": 335,
   "metadata": {},
   "outputs": [],
   "source": [
    "# Adding Regularization to our Neural Network#\n",
    "\n",
    "# introducing regularization to our neural network:\n",
    "# let’s formulate with a neural network that will badly overfit on \n",
    "# our training set. We’ll call this Model 2.\n",
    "\n",
    "\n",
    "\n"
   ]
  },
  {
   "cell_type": "code",
   "execution_count": 431,
   "metadata": {},
   "outputs": [],
   "source": [
    "model_2 = Sequential([Dense(1000, activation='relu', input_shape=(10,)), \n",
    "                      Dense(1000, activation='relu'),    \n",
    "                      Dense(1000, activation='relu'),    \n",
    "                      Dense(1000, activation='relu'),    \n",
    "                      Dense(1, activation='sigmoid'),])\n",
    "\n",
    "# we’ve made a much larger model and we’ve use the Adam optimizer. \n",
    "# Adam is one of the most common optimizers we use\n",
    "# adds some tweaks to stochastic gradient descent such \n",
    "# that it reaches the lower loss function faster. \n"
   ]
  },
  {
   "cell_type": "code",
   "execution_count": 432,
   "metadata": {},
   "outputs": [],
   "source": [
    "model_2.compile(optimizer='adam',\n",
    "                loss='binary_crossentropy',\n",
    "                metrics=['accuracy'])\n"
   ]
  },
  {
   "cell_type": "code",
   "execution_count": 435,
   "metadata": {},
   "outputs": [
    {
     "name": "stdout",
     "output_type": "stream",
     "text": [
      "Train on 12774 samples, validate on 2737 samples\n",
      "Epoch 1/50\n",
      "12774/12774 [==============================] - 3s 214us/step - loss: 0.1454 - accuracy: 0.9379 - val_loss: 0.1340 - val_accuracy: 0.9412\n",
      "Epoch 2/50\n",
      "12774/12774 [==============================] - 3s 209us/step - loss: 0.1525 - accuracy: 0.9364 - val_loss: 0.1565 - val_accuracy: 0.9423\n",
      "Epoch 3/50\n",
      "12774/12774 [==============================] - 3s 212us/step - loss: 0.1341 - accuracy: 0.9446 - val_loss: 0.1286 - val_accuracy: 0.9390\n",
      "Epoch 4/50\n",
      "12774/12774 [==============================] - 3s 212us/step - loss: 0.1201 - accuracy: 0.9508 - val_loss: 0.1220 - val_accuracy: 0.9456\n",
      "Epoch 5/50\n",
      "12774/12774 [==============================] - 3s 217us/step - loss: 0.1153 - accuracy: 0.9558 - val_loss: 0.1465 - val_accuracy: 0.9481\n",
      "Epoch 6/50\n",
      "12774/12774 [==============================] - 3s 213us/step - loss: 0.1606 - accuracy: 0.9409 - val_loss: 0.1200 - val_accuracy: 0.9445\n",
      "Epoch 7/50\n",
      "12774/12774 [==============================] - 3s 218us/step - loss: 0.1299 - accuracy: 0.9474 - val_loss: 0.1221 - val_accuracy: 0.9565\n",
      "Epoch 8/50\n",
      "12774/12774 [==============================] - 3s 214us/step - loss: 0.1200 - accuracy: 0.9526 - val_loss: 0.1148 - val_accuracy: 0.9499\n",
      "Epoch 9/50\n",
      "12774/12774 [==============================] - 3s 259us/step - loss: 0.1216 - accuracy: 0.9529 - val_loss: 0.1081 - val_accuracy: 0.9569\n",
      "Epoch 10/50\n",
      "12774/12774 [==============================] - 3s 226us/step - loss: 0.1371 - accuracy: 0.9442 - val_loss: 0.1688 - val_accuracy: 0.9415\n",
      "Epoch 11/50\n",
      "12774/12774 [==============================] - 3s 216us/step - loss: 0.1270 - accuracy: 0.9510 - val_loss: 0.1239 - val_accuracy: 0.9547\n",
      "Epoch 12/50\n",
      "12774/12774 [==============================] - 3s 220us/step - loss: 0.1070 - accuracy: 0.9576 - val_loss: 0.1010 - val_accuracy: 0.9609\n",
      "Epoch 13/50\n",
      "12774/12774 [==============================] - 3s 244us/step - loss: 0.0943 - accuracy: 0.9618 - val_loss: 0.1004 - val_accuracy: 0.9540\n",
      "Epoch 14/50\n",
      "12774/12774 [==============================] - 3s 238us/step - loss: 0.0922 - accuracy: 0.9628 - val_loss: 0.0903 - val_accuracy: 0.9620\n",
      "Epoch 15/50\n",
      "12774/12774 [==============================] - 3s 241us/step - loss: 0.0892 - accuracy: 0.9652 - val_loss: 0.0895 - val_accuracy: 0.9627\n",
      "Epoch 16/50\n",
      "12774/12774 [==============================] - 3s 220us/step - loss: 0.0851 - accuracy: 0.9662 - val_loss: 0.0913 - val_accuracy: 0.9605\n",
      "Epoch 17/50\n",
      "12774/12774 [==============================] - 3s 225us/step - loss: 0.0968 - accuracy: 0.9623 - val_loss: 0.1105 - val_accuracy: 0.9591\n",
      "Epoch 18/50\n",
      "12774/12774 [==============================] - 3s 253us/step - loss: 0.1026 - accuracy: 0.9607 - val_loss: 0.0855 - val_accuracy: 0.9631\n",
      "Epoch 19/50\n",
      "12774/12774 [==============================] - 3s 219us/step - loss: 0.0845 - accuracy: 0.9670 - val_loss: 0.1164 - val_accuracy: 0.9602\n",
      "Epoch 20/50\n",
      "12774/12774 [==============================] - 3s 215us/step - loss: 0.0996 - accuracy: 0.9622 - val_loss: 0.1017 - val_accuracy: 0.9587\n",
      "Epoch 21/50\n",
      "12774/12774 [==============================] - 3s 217us/step - loss: 0.0931 - accuracy: 0.9641 - val_loss: 0.0912 - val_accuracy: 0.9591\n",
      "Epoch 22/50\n",
      "12774/12774 [==============================] - 3s 254us/step - loss: 0.0986 - accuracy: 0.9609 - val_loss: 0.0814 - val_accuracy: 0.9638\n",
      "Epoch 23/50\n",
      "12774/12774 [==============================] - 3s 221us/step - loss: 0.1034 - accuracy: 0.9601 - val_loss: 0.1210 - val_accuracy: 0.9540\n",
      "Epoch 24/50\n",
      "12774/12774 [==============================] - 3s 231us/step - loss: 0.0887 - accuracy: 0.9643 - val_loss: 0.0907 - val_accuracy: 0.9620\n",
      "Epoch 25/50\n",
      "12774/12774 [==============================] - 3s 242us/step - loss: 0.0818 - accuracy: 0.9666 - val_loss: 0.0782 - val_accuracy: 0.9671\n",
      "Epoch 26/50\n",
      "12774/12774 [==============================] - 4s 322us/step - loss: 0.0735 - accuracy: 0.9697 - val_loss: 0.0794 - val_accuracy: 0.9642\n",
      "Epoch 27/50\n",
      "12774/12774 [==============================] - 3s 272us/step - loss: 0.0731 - accuracy: 0.9699 - val_loss: 0.0799 - val_accuracy: 0.9678\n",
      "Epoch 28/50\n",
      "12774/12774 [==============================] - 4s 319us/step - loss: 0.0762 - accuracy: 0.9688 - val_loss: 0.0872 - val_accuracy: 0.9631\n",
      "Epoch 29/50\n",
      "12774/12774 [==============================] - 3s 271us/step - loss: 0.0806 - accuracy: 0.9685 - val_loss: 0.1000 - val_accuracy: 0.9583\n",
      "Epoch 30/50\n",
      "12774/12774 [==============================] - 3s 261us/step - loss: 0.0844 - accuracy: 0.9672 - val_loss: 0.0830 - val_accuracy: 0.9664\n",
      "Epoch 31/50\n",
      "12774/12774 [==============================] - 4s 280us/step - loss: 0.0714 - accuracy: 0.9703 - val_loss: 0.0734 - val_accuracy: 0.9686\n",
      "Epoch 32/50\n",
      "12774/12774 [==============================] - 4s 288us/step - loss: 0.0671 - accuracy: 0.9724 - val_loss: 0.0733 - val_accuracy: 0.9704\n",
      "Epoch 33/50\n",
      "12774/12774 [==============================] - 3s 242us/step - loss: 0.0665 - accuracy: 0.9724 - val_loss: 0.0857 - val_accuracy: 0.9653\n",
      "Epoch 34/50\n",
      "12774/12774 [==============================] - 3s 221us/step - loss: 0.0699 - accuracy: 0.9717 - val_loss: 0.0721 - val_accuracy: 0.9708\n",
      "Epoch 35/50\n",
      "12774/12774 [==============================] - 4s 277us/step - loss: 0.0681 - accuracy: 0.9729 - val_loss: 0.0726 - val_accuracy: 0.9704\n",
      "Epoch 36/50\n",
      "12774/12774 [==============================] - 4s 303us/step - loss: 0.1355 - accuracy: 0.9530 - val_loss: 0.2202 - val_accuracy: 0.9134\n",
      "Epoch 37/50\n",
      "12774/12774 [==============================] - 3s 229us/step - loss: 0.1555 - accuracy: 0.9392 - val_loss: 0.1936 - val_accuracy: 0.9419\n",
      "Epoch 38/50\n",
      "12774/12774 [==============================] - 3s 224us/step - loss: 0.1353 - accuracy: 0.9477 - val_loss: 0.1232 - val_accuracy: 0.9478\n",
      "Epoch 39/50\n",
      "12774/12774 [==============================] - 3s 226us/step - loss: 0.1091 - accuracy: 0.9551 - val_loss: 0.0896 - val_accuracy: 0.9598\n",
      "Epoch 40/50\n",
      "12774/12774 [==============================] - 3s 223us/step - loss: 0.0956 - accuracy: 0.9626 - val_loss: 0.0859 - val_accuracy: 0.9649\n",
      "Epoch 41/50\n",
      "12774/12774 [==============================] - 3s 226us/step - loss: 0.0807 - accuracy: 0.9676 - val_loss: 0.0933 - val_accuracy: 0.9591\n",
      "Epoch 42/50\n",
      "12774/12774 [==============================] - 3s 224us/step - loss: 0.0824 - accuracy: 0.9681 - val_loss: 0.0785 - val_accuracy: 0.9657\n",
      "Epoch 43/50\n",
      "12774/12774 [==============================] - 3s 235us/step - loss: 0.0736 - accuracy: 0.9714 - val_loss: 0.0841 - val_accuracy: 0.9653\n",
      "Epoch 44/50\n",
      "12774/12774 [==============================] - 4s 276us/step - loss: 0.0706 - accuracy: 0.9714 - val_loss: 0.0727 - val_accuracy: 0.9722\n",
      "Epoch 45/50\n",
      "12774/12774 [==============================] - 3s 261us/step - loss: 0.0675 - accuracy: 0.9731 - val_loss: 0.0757 - val_accuracy: 0.9697\n",
      "Epoch 46/50\n",
      "12774/12774 [==============================] - 3s 257us/step - loss: 0.0675 - accuracy: 0.9726 - val_loss: 0.0691 - val_accuracy: 0.9737\n",
      "Epoch 47/50\n",
      "12774/12774 [==============================] - 3s 224us/step - loss: 0.0651 - accuracy: 0.9737 - val_loss: 0.0741 - val_accuracy: 0.9686\n",
      "Epoch 48/50\n",
      "12774/12774 [==============================] - 3s 243us/step - loss: 0.0660 - accuracy: 0.9729 - val_loss: 0.0708 - val_accuracy: 0.9715\n",
      "Epoch 49/50\n",
      "12774/12774 [==============================] - 3s 234us/step - loss: 0.0680 - accuracy: 0.9712 - val_loss: 0.1047 - val_accuracy: 0.9613\n",
      "Epoch 50/50\n",
      "12774/12774 [==============================] - 3s 246us/step - loss: 0.0739 - accuracy: 0.9698 - val_loss: 0.0689 - val_accuracy: 0.9708\n"
     ]
    }
   ],
   "source": [
    "hist_2 = model_2.fit(X_train, Y_train, batch_size=1500, epochs=50,          validation_data=(X_val, Y_val))\n"
   ]
  },
  {
   "cell_type": "code",
   "execution_count": 438,
   "metadata": {},
   "outputs": [
    {
     "name": "stdout",
     "output_type": "stream",
     "text": [
      "2738/2738 [==============================] - 1s 293us/step\n"
     ]
    },
    {
     "data": {
      "text/plain": [
       "0.9740686416625977"
      ]
     },
     "execution_count": 438,
     "metadata": {},
     "output_type": "execute_result"
    }
   ],
   "source": [
    "model_2.evaluate(X_test, Y_test)[1]\n",
    "#model_2.evaluate(X_test, Y_test)[1]"
   ]
  },
  {
   "cell_type": "code",
   "execution_count": 439,
   "metadata": {},
   "outputs": [
    {
     "data": {
      "image/png": "[encoded data removed]",
      "text/plain": [
       "<Figure size 432x288 with 1 Axes>"
      ]
     },
     "metadata": {
      "needs_background": "light"
     },
     "output_type": "display_data"
    }
   ],
   "source": [
    "plt.plot(hist_2.history['accuracy'])\n",
    "plt.plot(hist_2.history['val_accuracy'])\n",
    "plt.title('Model accuracy')\n",
    "plt.ylabel('Accuracy')\n",
    "plt.xlabel('Epoch')\n",
    "plt.legend(['Train', 'Val'], loc='lower right')\n",
    "plt.show()\n",
    "\n",
    "# The model does not show any sign of overfitting \n",
    "# The training loss is not decreasing and  the validation loss is closly following the traning \n",
    "# no clear divergece between train and validation accuracy\n",
    "\n",
    "# when we check the accuracy it now tell us that it is close to 97% (0.9788166284)"
   ]
  },
  {
   "cell_type": "code",
   "execution_count": 440,
   "metadata": {},
   "outputs": [
    {
     "data": {
      "image/png": "[encoded data removed]",
      "text/plain": [
       "<Figure size 432x288 with 1 Axes>"
      ]
     },
     "metadata": {
      "needs_background": "light"
     },
     "output_type": "display_data"
    }
   ],
   "source": [
    "plt.plot(hist.history['loss'])\n",
    "plt.plot(hist.history['val_loss'])\n",
    "plt.title('Model loss')\n",
    "plt.ylabel('Loss')\n",
    "plt.xlabel('Epoch')\n",
    "plt.legend(['Train', 'Val'], loc='upper right')\n",
    "plt.show()"
   ]
  },
  {
   "cell_type": "code",
   "execution_count": 250,
   "metadata": {},
   "outputs": [],
   "source": [
    "#reduce overfitting if excist# \n",
    "\n",
    "# to try out some of our strategies to reduce over-fitting \n"
   ]
  },
  {
   "cell_type": "code",
   "execution_count": 340,
   "metadata": {},
   "outputs": [],
   "source": [
    "from keras.layers import Dropout\n",
    "from keras import regularizers\n",
    "\n",
    "# Difference 1: To add regularization, we’ve added extra code in each of our dense layers like this:\n",
    "# kernel_regularizer=regularizers.l2(0.01)\n",
    "# This tells Keras to include the squared values of those parameters \n",
    "# in our overall loss function, and weight them by 0.01 in the loss function.\n",
    "\n",
    "# Difference 2: To add Dropout, we added a new layer like this:\n",
    "# Dropout(0.3),\n",
    "# This means that the neurons in the previous layer has a probability \n",
    "# of 0.3 in dropping out during training."
   ]
  },
  {
   "cell_type": "code",
   "execution_count": 441,
   "metadata": {},
   "outputs": [],
   "source": [
    "model_3 = Sequential([Dense(1000, activation='relu', \n",
    "                            kernel_regularizer=regularizers.l2(0.01), \n",
    "                            input_shape=(10,)),    \n",
    "                      Dropout(0.3),\n",
    "                      Dense(1000, \n",
    "                            activation='relu', \n",
    "                            kernel_regularizer=regularizers.l2(0.01)),\n",
    "                      Dropout(0.3),    \n",
    "                      Dense(1000, activation='relu', \n",
    "                            kernel_regularizer=regularizers.l2(0.01)),    Dropout(0.3),    Dense(1000, activation='relu', kernel_regularizer=regularizers.l2(0.01)),    Dropout(0.3),    Dense(1, activation='sigmoid', kernel_regularizer=regularizers.l2(0.01)),])\n"
   ]
  },
  {
   "cell_type": "code",
   "execution_count": 442,
   "metadata": {},
   "outputs": [],
   "source": [
    "model_3.compile(optimizer='adam',\n",
    "                loss='binary_crossentropy',\n",
    "                metrics=['accuracy'])\n"
   ]
  },
  {
   "cell_type": "code",
   "execution_count": 443,
   "metadata": {},
   "outputs": [
    {
     "name": "stdout",
     "output_type": "stream",
     "text": [
      "Train on 12774 samples, validate on 2737 samples\n",
      "Epoch 1/50\n",
      "12774/12774 [==============================] - 4s 316us/step - loss: 29.5097 - accuracy: 0.5454 - val_loss: 25.6022 - val_accuracy: 0.8144\n",
      "Epoch 2/50\n",
      "12774/12774 [==============================] - 3s 237us/step - loss: 24.1062 - accuracy: 0.7076 - val_loss: 20.4371 - val_accuracy: 0.7377\n",
      "Epoch 3/50\n",
      "12774/12774 [==============================] - 3s 235us/step - loss: 19.1430 - accuracy: 0.7248 - val_loss: 16.0246 - val_accuracy: 0.7965\n",
      "Epoch 4/50\n",
      "12774/12774 [==============================] - 3s 236us/step - loss: 14.9508 - accuracy: 0.7679 - val_loss: 12.3898 - val_accuracy: 0.7906\n",
      "Epoch 5/50\n",
      "12774/12774 [==============================] - 3s 257us/step - loss: 11.5216 - accuracy: 0.7539 - val_loss: 9.4678 - val_accuracy: 0.7647\n",
      "Epoch 6/50\n",
      "12774/12774 [==============================] - 3s 229us/step - loss: 8.7805 - accuracy: 0.7220 - val_loss: 7.1670 - val_accuracy: 0.7808\n",
      "Epoch 7/50\n",
      "12774/12774 [==============================] - 3s 233us/step - loss: 6.6336 - accuracy: 0.7705 - val_loss: 5.3900 - val_accuracy: 0.8118\n",
      "Epoch 8/50\n",
      "12774/12774 [==============================] - 3s 234us/step - loss: 4.9838 - accuracy: 0.7791 - val_loss: 4.0434 - val_accuracy: 0.7841\n",
      "Epoch 9/50\n",
      "12774/12774 [==============================] - 3s 254us/step - loss: 3.7398 - accuracy: 0.7487 - val_loss: 3.0415 - val_accuracy: 0.8115\n",
      "Epoch 10/50\n",
      "12774/12774 [==============================] - 4s 310us/step - loss: 2.8188 - accuracy: 0.7691 - val_loss: 2.3101 - val_accuracy: 0.7421\n",
      "Epoch 11/50\n",
      "12774/12774 [==============================] - 3s 254us/step - loss: 2.1499 - accuracy: 0.7070 - val_loss: 1.7861 - val_accuracy: 0.6726\n",
      "Epoch 12/50\n",
      "12774/12774 [==============================] - 3s 244us/step - loss: 1.6731 - accuracy: 0.6873 - val_loss: 1.4179 - val_accuracy: 0.7680\n",
      "Epoch 13/50\n",
      "12774/12774 [==============================] - 3s 244us/step - loss: 1.3396 - accuracy: 0.6879 - val_loss: 1.1640 - val_accuracy: 0.5996\n",
      "Epoch 14/50\n",
      "12774/12774 [==============================] - 4s 275us/step - loss: 1.1108 - accuracy: 0.5467 - val_loss: 0.9924 - val_accuracy: 0.5079\n",
      "Epoch 15/50\n",
      "12774/12774 [==============================] - 4s 295us/step - loss: 0.9573 - accuracy: 0.5004 - val_loss: 0.8792 - val_accuracy: 0.5079\n",
      "Epoch 16/50\n",
      "12774/12774 [==============================] - 4s 304us/step - loss: 0.8564 - accuracy: 0.5014 - val_loss: 0.8065 - val_accuracy: 0.5079\n",
      "Epoch 17/50\n",
      "12774/12774 [==============================] - 4s 312us/step - loss: 0.7920 - accuracy: 0.5072 - val_loss: 0.7608 - val_accuracy: 0.4921\n",
      "Epoch 18/50\n",
      "12774/12774 [==============================] - 4s 321us/step - loss: 0.7519 - accuracy: 0.4998 - val_loss: 0.7330 - val_accuracy: 0.4921\n",
      "Epoch 19/50\n",
      "12774/12774 [==============================] - 4s 350us/step - loss: 0.7277 - accuracy: 0.4999 - val_loss: 0.7165 - val_accuracy: 0.4921\n",
      "Epoch 20/50\n",
      "12774/12774 [==============================] - 3s 271us/step - loss: 0.7134 - accuracy: 0.4989 - val_loss: 0.7070 - val_accuracy: 0.4921\n",
      "Epoch 21/50\n",
      "12774/12774 [==============================] - 3s 253us/step - loss: 0.7052 - accuracy: 0.4984 - val_loss: 0.7015 - val_accuracy: 0.4921\n",
      "Epoch 22/50\n",
      "12774/12774 [==============================] - 3s 238us/step - loss: 0.7006 - accuracy: 0.4994 - val_loss: 0.6985 - val_accuracy: 0.4921\n",
      "Epoch 23/50\n",
      "12774/12774 [==============================] - 3s 240us/step - loss: 0.6979 - accuracy: 0.4990 - val_loss: 0.6968 - val_accuracy: 0.4921\n",
      "Epoch 24/50\n",
      "12774/12774 [==============================] - 3s 249us/step - loss: 0.6965 - accuracy: 0.4997 - val_loss: 0.6958 - val_accuracy: 0.4921\n",
      "Epoch 25/50\n",
      "12774/12774 [==============================] - 4s 277us/step - loss: 0.6955 - accuracy: 0.4997 - val_loss: 0.6951 - val_accuracy: 0.4921\n",
      "Epoch 26/50\n",
      "12774/12774 [==============================] - 4s 305us/step - loss: 0.6949 - accuracy: 0.4997 - val_loss: 0.6946 - val_accuracy: 0.4921\n",
      "Epoch 27/50\n",
      "12774/12774 [==============================] - 3s 246us/step - loss: 0.6945 - accuracy: 0.4997 - val_loss: 0.6943 - val_accuracy: 0.4921\n",
      "Epoch 28/50\n",
      "12774/12774 [==============================] - 3s 245us/step - loss: 0.6941 - accuracy: 0.4997 - val_loss: 0.6940 - val_accuracy: 0.4921\n",
      "Epoch 29/50\n",
      "12774/12774 [==============================] - 3s 243us/step - loss: 0.6939 - accuracy: 0.4997 - val_loss: 0.6937 - val_accuracy: 0.4921\n",
      "Epoch 30/50\n",
      "12774/12774 [==============================] - 3s 239us/step - loss: 0.6937 - accuracy: 0.4991 - val_loss: 0.6935 - val_accuracy: 0.5079\n",
      "Epoch 31/50\n",
      "12774/12774 [==============================] - 3s 243us/step - loss: 0.6935 - accuracy: 0.5003 - val_loss: 0.6934 - val_accuracy: 0.5079\n",
      "Epoch 32/50\n",
      "12774/12774 [==============================] - 4s 314us/step - loss: 0.6934 - accuracy: 0.5003 - val_loss: 0.6933 - val_accuracy: 0.5079\n",
      "Epoch 33/50\n",
      "12774/12774 [==============================] - 4s 280us/step - loss: 0.6933 - accuracy: 0.5003 - val_loss: 0.6932 - val_accuracy: 0.5079\n",
      "Epoch 34/50\n",
      "12774/12774 [==============================] - 3s 238us/step - loss: 0.6933 - accuracy: 0.5003 - val_loss: 0.6932 - val_accuracy: 0.5079\n",
      "Epoch 35/50\n",
      "12774/12774 [==============================] - 4s 297us/step - loss: 0.6932 - accuracy: 0.4980 - val_loss: 0.6932 - val_accuracy: 0.4921\n",
      "Epoch 36/50\n",
      "12774/12774 [==============================] - 4s 277us/step - loss: 0.6932 - accuracy: 0.4997 - val_loss: 0.6932 - val_accuracy: 0.4921\n",
      "Epoch 37/50\n",
      "12774/12774 [==============================] - 4s 295us/step - loss: 0.6932 - accuracy: 0.4997 - val_loss: 0.6932 - val_accuracy: 0.4921\n",
      "Epoch 38/50\n",
      "12774/12774 [==============================] - 4s 330us/step - loss: 0.6932 - accuracy: 0.4992 - val_loss: 0.6931 - val_accuracy: 0.5079\n",
      "Epoch 39/50\n",
      "12774/12774 [==============================] - 4s 322us/step - loss: 0.6932 - accuracy: 0.5003 - val_loss: 0.6931 - val_accuracy: 0.5079\n",
      "Epoch 40/50\n",
      "12774/12774 [==============================] - 4s 290us/step - loss: 0.6932 - accuracy: 0.5003 - val_loss: 0.6931 - val_accuracy: 0.5079\n",
      "Epoch 41/50\n",
      "12774/12774 [==============================] - 3s 245us/step - loss: 0.6932 - accuracy: 0.5003 - val_loss: 0.6931 - val_accuracy: 0.5079\n",
      "Epoch 42/50\n",
      "12774/12774 [==============================] - 3s 236us/step - loss: 0.6932 - accuracy: 0.5003 - val_loss: 0.6931 - val_accuracy: 0.5079\n",
      "Epoch 43/50\n",
      "12774/12774 [==============================] - 3s 246us/step - loss: 0.6932 - accuracy: 0.5003 - val_loss: 0.6931 - val_accuracy: 0.5079\n",
      "Epoch 44/50\n",
      "12774/12774 [==============================] - 3s 249us/step - loss: 0.6932 - accuracy: 0.5003 - val_loss: 0.6931 - val_accuracy: 0.5079\n",
      "Epoch 45/50\n",
      "12774/12774 [==============================] - 4s 278us/step - loss: 0.6932 - accuracy: 0.5003 - val_loss: 0.6931 - val_accuracy: 0.5079\n",
      "Epoch 46/50\n",
      "12774/12774 [==============================] - 4s 292us/step - loss: 0.6932 - accuracy: 0.5003 - val_loss: 0.6931 - val_accuracy: 0.5079\n",
      "Epoch 47/50\n",
      "12774/12774 [==============================] - 4s 301us/step - loss: 0.6932 - accuracy: 0.5002 - val_loss: 0.6932 - val_accuracy: 0.4921\n",
      "Epoch 48/50\n",
      "12774/12774 [==============================] - 3s 270us/step - loss: 0.6932 - accuracy: 0.5018 - val_loss: 0.6932 - val_accuracy: 0.4921\n",
      "Epoch 49/50\n",
      "12774/12774 [==============================] - 3s 252us/step - loss: 0.6932 - accuracy: 0.4997 - val_loss: 0.6932 - val_accuracy: 0.4921\n",
      "Epoch 50/50\n",
      "12774/12774 [==============================] - 4s 276us/step - loss: 0.6932 - accuracy: 0.5007 - val_loss: 0.6931 - val_accuracy: 0.5079\n"
     ]
    }
   ],
   "source": [
    "hist_3 = model_3.fit(X_train, Y_train, batch_size=4000, epochs=50,          validation_data=(X_val, Y_val))\n"
   ]
  },
  {
   "cell_type": "code",
   "execution_count": 444,
   "metadata": {},
   "outputs": [
    {
     "name": "stdout",
     "output_type": "stream",
     "text": [
      "2738/2738 [==============================] - 1s 417us/step\n"
     ]
    },
    {
     "data": {
      "text/plain": [
       "0.4912344813346863"
      ]
     },
     "execution_count": 444,
     "metadata": {},
     "output_type": "execute_result"
    }
   ],
   "source": [
    "model_3.evaluate(X_test, Y_test)[1]"
   ]
  },
  {
   "cell_type": "code",
   "execution_count": 445,
   "metadata": {},
   "outputs": [
    {
     "data": {
      "image/png": "[encoded data removed]",
      "text/plain": [
       "<Figure size 432x288 with 1 Axes>"
      ]
     },
     "metadata": {
      "needs_background": "light"
     },
     "output_type": "display_data"
    }
   ],
   "source": [
    "plt.plot(hist_3.history['loss'])\n",
    "plt.plot(hist_3.history['val_loss'])\n",
    "plt.title('Model loss')\n",
    "plt.ylabel('Loss')\n",
    "plt.xlabel('Epoch')\n",
    "plt.legend(['Train', 'Val'], loc='upper right')\n",
    "plt.ylim(top=1.2, bottom=0)\n",
    "plt.show()\n"
   ]
  },
  {
   "cell_type": "code",
   "execution_count": 446,
   "metadata": {},
   "outputs": [
    {
     "data": {
      "image/png": "[encoded data removed]",
      "text/plain": [
       "<Figure size 432x288 with 1 Axes>"
      ]
     },
     "metadata": {
      "needs_background": "light"
     },
     "output_type": "display_data"
    }
   ],
   "source": [
    "plt.plot(hist_3.history['accuracy'])\n",
    "plt.plot(hist_3.history['val_accuracy'])\n",
    "plt.title('Model accuracy')\n",
    "plt.ylabel('Accuracy')\n",
    "plt.xlabel('Epoch')\n",
    "plt.legend(['Train', 'Val'], loc='lower right')\n",
    "plt.show()\n",
    "\n",
    "# the more we train the model the less accurate it becomes"
   ]
  },
  {
   "cell_type": "code",
   "execution_count": 447,
   "metadata": {},
   "outputs": [
    {
     "data": {
      "text/html": [
       "<div>\n",
       "<style scoped>\n",
       "    .dataframe tbody tr th:only-of-type {\n",
       "        vertical-align: middle;\n",
       "    }\n",
       "\n",
       "    .dataframe tbody tr th {\n",
       "        vertical-align: top;\n",
       "    }\n",
       "\n",
       "    .dataframe thead th {\n",
       "        text-align: right;\n",
       "    }\n",
       "</style>\n",
       "<table border=\"1\" class=\"dataframe\">\n",
       "  <thead>\n",
       "    <tr style=\"text-align: right;\">\n",
       "      <th></th>\n",
       "      <th>Unnamed: 0</th>\n",
       "      <th>Date</th>\n",
       "      <th>AveragePrice</th>\n",
       "      <th>Total Volume</th>\n",
       "      <th>4046</th>\n",
       "      <th>4225</th>\n",
       "      <th>4770</th>\n",
       "      <th>Total Bags</th>\n",
       "      <th>Small Bags</th>\n",
       "      <th>Large Bags</th>\n",
       "      <th>XLarge Bags</th>\n",
       "      <th>type</th>\n",
       "      <th>year</th>\n",
       "      <th>region</th>\n",
       "    </tr>\n",
       "  </thead>\n",
       "  <tbody>\n",
       "    <tr>\n",
       "      <th>0</th>\n",
       "      <td>0</td>\n",
       "      <td>2015-12-27</td>\n",
       "      <td>1.33</td>\n",
       "      <td>64236.62</td>\n",
       "      <td>1036.74</td>\n",
       "      <td>54454.85</td>\n",
       "      <td>48.16</td>\n",
       "      <td>8696.87</td>\n",
       "      <td>8603.62</td>\n",
       "      <td>93.25</td>\n",
       "      <td>0.0</td>\n",
       "      <td>conventional</td>\n",
       "      <td>2015</td>\n",
       "      <td>Albany</td>\n",
       "    </tr>\n",
       "    <tr>\n",
       "      <th>1</th>\n",
       "      <td>1</td>\n",
       "      <td>2015-12-20</td>\n",
       "      <td>1.35</td>\n",
       "      <td>54876.98</td>\n",
       "      <td>674.28</td>\n",
       "      <td>44638.81</td>\n",
       "      <td>58.33</td>\n",
       "      <td>9505.56</td>\n",
       "      <td>9408.07</td>\n",
       "      <td>97.49</td>\n",
       "      <td>0.0</td>\n",
       "      <td>conventional</td>\n",
       "      <td>2015</td>\n",
       "      <td>Albany</td>\n",
       "    </tr>\n",
       "    <tr>\n",
       "      <th>2</th>\n",
       "      <td>2</td>\n",
       "      <td>2015-12-13</td>\n",
       "      <td>0.93</td>\n",
       "      <td>118220.22</td>\n",
       "      <td>794.70</td>\n",
       "      <td>109149.67</td>\n",
       "      <td>130.50</td>\n",
       "      <td>8145.35</td>\n",
       "      <td>8042.21</td>\n",
       "      <td>103.14</td>\n",
       "      <td>0.0</td>\n",
       "      <td>conventional</td>\n",
       "      <td>2015</td>\n",
       "      <td>Albany</td>\n",
       "    </tr>\n",
       "    <tr>\n",
       "      <th>3</th>\n",
       "      <td>3</td>\n",
       "      <td>2015-12-06</td>\n",
       "      <td>1.08</td>\n",
       "      <td>78992.15</td>\n",
       "      <td>1132.00</td>\n",
       "      <td>71976.41</td>\n",
       "      <td>72.58</td>\n",
       "      <td>5811.16</td>\n",
       "      <td>5677.40</td>\n",
       "      <td>133.76</td>\n",
       "      <td>0.0</td>\n",
       "      <td>conventional</td>\n",
       "      <td>2015</td>\n",
       "      <td>Albany</td>\n",
       "    </tr>\n",
       "    <tr>\n",
       "      <th>4</th>\n",
       "      <td>4</td>\n",
       "      <td>2015-11-29</td>\n",
       "      <td>1.28</td>\n",
       "      <td>51039.60</td>\n",
       "      <td>941.48</td>\n",
       "      <td>43838.39</td>\n",
       "      <td>75.78</td>\n",
       "      <td>6183.95</td>\n",
       "      <td>5986.26</td>\n",
       "      <td>197.69</td>\n",
       "      <td>0.0</td>\n",
       "      <td>conventional</td>\n",
       "      <td>2015</td>\n",
       "      <td>Albany</td>\n",
       "    </tr>\n",
       "    <tr>\n",
       "      <th>...</th>\n",
       "      <td>...</td>\n",
       "      <td>...</td>\n",
       "      <td>...</td>\n",
       "      <td>...</td>\n",
       "      <td>...</td>\n",
       "      <td>...</td>\n",
       "      <td>...</td>\n",
       "      <td>...</td>\n",
       "      <td>...</td>\n",
       "      <td>...</td>\n",
       "      <td>...</td>\n",
       "      <td>...</td>\n",
       "      <td>...</td>\n",
       "      <td>...</td>\n",
       "    </tr>\n",
       "    <tr>\n",
       "      <th>18244</th>\n",
       "      <td>7</td>\n",
       "      <td>2018-02-04</td>\n",
       "      <td>1.63</td>\n",
       "      <td>17074.83</td>\n",
       "      <td>2046.96</td>\n",
       "      <td>1529.20</td>\n",
       "      <td>0.00</td>\n",
       "      <td>13498.67</td>\n",
       "      <td>13066.82</td>\n",
       "      <td>431.85</td>\n",
       "      <td>0.0</td>\n",
       "      <td>organic</td>\n",
       "      <td>2018</td>\n",
       "      <td>WestTexNewMexico</td>\n",
       "    </tr>\n",
       "    <tr>\n",
       "      <th>18245</th>\n",
       "      <td>8</td>\n",
       "      <td>2018-01-28</td>\n",
       "      <td>1.71</td>\n",
       "      <td>13888.04</td>\n",
       "      <td>1191.70</td>\n",
       "      <td>3431.50</td>\n",
       "      <td>0.00</td>\n",
       "      <td>9264.84</td>\n",
       "      <td>8940.04</td>\n",
       "      <td>324.80</td>\n",
       "      <td>0.0</td>\n",
       "      <td>organic</td>\n",
       "      <td>2018</td>\n",
       "      <td>WestTexNewMexico</td>\n",
       "    </tr>\n",
       "    <tr>\n",
       "      <th>18246</th>\n",
       "      <td>9</td>\n",
       "      <td>2018-01-21</td>\n",
       "      <td>1.87</td>\n",
       "      <td>13766.76</td>\n",
       "      <td>1191.92</td>\n",
       "      <td>2452.79</td>\n",
       "      <td>727.94</td>\n",
       "      <td>9394.11</td>\n",
       "      <td>9351.80</td>\n",
       "      <td>42.31</td>\n",
       "      <td>0.0</td>\n",
       "      <td>organic</td>\n",
       "      <td>2018</td>\n",
       "      <td>WestTexNewMexico</td>\n",
       "    </tr>\n",
       "    <tr>\n",
       "      <th>18247</th>\n",
       "      <td>10</td>\n",
       "      <td>2018-01-14</td>\n",
       "      <td>1.93</td>\n",
       "      <td>16205.22</td>\n",
       "      <td>1527.63</td>\n",
       "      <td>2981.04</td>\n",
       "      <td>727.01</td>\n",
       "      <td>10969.54</td>\n",
       "      <td>10919.54</td>\n",
       "      <td>50.00</td>\n",
       "      <td>0.0</td>\n",
       "      <td>organic</td>\n",
       "      <td>2018</td>\n",
       "      <td>WestTexNewMexico</td>\n",
       "    </tr>\n",
       "    <tr>\n",
       "      <th>18248</th>\n",
       "      <td>11</td>\n",
       "      <td>2018-01-07</td>\n",
       "      <td>1.62</td>\n",
       "      <td>17489.58</td>\n",
       "      <td>2894.77</td>\n",
       "      <td>2356.13</td>\n",
       "      <td>224.53</td>\n",
       "      <td>12014.15</td>\n",
       "      <td>11988.14</td>\n",
       "      <td>26.01</td>\n",
       "      <td>0.0</td>\n",
       "      <td>organic</td>\n",
       "      <td>2018</td>\n",
       "      <td>WestTexNewMexico</td>\n",
       "    </tr>\n",
       "  </tbody>\n",
       "</table>\n",
       "<p>18249 rows × 14 columns</p>\n",
       "</div>"
      ],
      "text/plain": [
       "       Unnamed: 0        Date  AveragePrice  Total Volume     4046       4225  \\\n",
       "0               0  2015-12-27          1.33      64236.62  1036.74   54454.85   \n",
       "1               1  2015-12-20          1.35      54876.98   674.28   44638.81   \n",
       "2               2  2015-12-13          0.93     118220.22   794.70  109149.67   \n",
       "3               3  2015-12-06          1.08      78992.15  1132.00   71976.41   \n",
       "4               4  2015-11-29          1.28      51039.60   941.48   43838.39   \n",
       "...           ...         ...           ...           ...      ...        ...   \n",
       "18244           7  2018-02-04          1.63      17074.83  2046.96    1529.20   \n",
       "18245           8  2018-01-28          1.71      13888.04  1191.70    3431.50   \n",
       "18246           9  2018-01-21          1.87      13766.76  1191.92    2452.79   \n",
       "18247          10  2018-01-14          1.93      16205.22  1527.63    2981.04   \n",
       "18248          11  2018-01-07          1.62      17489.58  2894.77    2356.13   \n",
       "\n",
       "         4770  Total Bags  Small Bags  Large Bags  XLarge Bags          type  \\\n",
       "0       48.16     8696.87     8603.62       93.25          0.0  conventional   \n",
       "1       58.33     9505.56     9408.07       97.49          0.0  conventional   \n",
       "2      130.50     8145.35     8042.21      103.14          0.0  conventional   \n",
       "3       72.58     5811.16     5677.40      133.76          0.0  conventional   \n",
       "4       75.78     6183.95     5986.26      197.69          0.0  conventional   \n",
       "...       ...         ...         ...         ...          ...           ...   \n",
       "18244    0.00    13498.67    13066.82      431.85          0.0       organic   \n",
       "18245    0.00     9264.84     8940.04      324.80          0.0       organic   \n",
       "18246  727.94     9394.11     9351.80       42.31          0.0       organic   \n",
       "18247  727.01    10969.54    10919.54       50.00          0.0       organic   \n",
       "18248  224.53    12014.15    11988.14       26.01          0.0       organic   \n",
       "\n",
       "       year            region  \n",
       "0      2015            Albany  \n",
       "1      2015            Albany  \n",
       "2      2015            Albany  \n",
       "3      2015            Albany  \n",
       "4      2015            Albany  \n",
       "...     ...               ...  \n",
       "18244  2018  WestTexNewMexico  \n",
       "18245  2018  WestTexNewMexico  \n",
       "18246  2018  WestTexNewMexico  \n",
       "18247  2018  WestTexNewMexico  \n",
       "18248  2018  WestTexNewMexico  \n",
       "\n",
       "[18249 rows x 14 columns]"
      ]
     },
     "execution_count": 447,
     "metadata": {},
     "output_type": "execute_result"
    }
   ],
   "source": [
    "data = df\n",
    "df"
   ]
  },
  {
   "cell_type": "code",
   "execution_count": 448,
   "metadata": {},
   "outputs": [],
   "source": [
    "df.drop('Unnamed: 0',axis=1,inplace=True)\n"
   ]
  },
  {
   "cell_type": "code",
   "execution_count": 452,
   "metadata": {},
   "outputs": [],
   "source": [
    "def converter(cluster):\n",
    "    if cluster=='organic':\n",
    "        return 1\n",
    "    else:\n",
    "        return 0"
   ]
  },
  {
   "cell_type": "code",
   "execution_count": 453,
   "metadata": {},
   "outputs": [
    {
     "data": {
      "text/html": [
       "<div>\n",
       "<style scoped>\n",
       "    .dataframe tbody tr th:only-of-type {\n",
       "        vertical-align: middle;\n",
       "    }\n",
       "\n",
       "    .dataframe tbody tr th {\n",
       "        vertical-align: top;\n",
       "    }\n",
       "\n",
       "    .dataframe thead th {\n",
       "        text-align: right;\n",
       "    }\n",
       "</style>\n",
       "<table border=\"1\" class=\"dataframe\">\n",
       "  <thead>\n",
       "    <tr style=\"text-align: right;\">\n",
       "      <th></th>\n",
       "      <th>Date</th>\n",
       "      <th>AveragePrice</th>\n",
       "      <th>Total Volume</th>\n",
       "      <th>4046</th>\n",
       "      <th>4225</th>\n",
       "      <th>4770</th>\n",
       "      <th>Total Bags</th>\n",
       "      <th>Small Bags</th>\n",
       "      <th>Large Bags</th>\n",
       "      <th>XLarge Bags</th>\n",
       "      <th>type</th>\n",
       "      <th>year</th>\n",
       "      <th>region</th>\n",
       "      <th>Cluster</th>\n",
       "    </tr>\n",
       "  </thead>\n",
       "  <tbody>\n",
       "    <tr>\n",
       "      <th>0</th>\n",
       "      <td>2015-12-27</td>\n",
       "      <td>1.33</td>\n",
       "      <td>64236.62</td>\n",
       "      <td>1036.74</td>\n",
       "      <td>54454.85</td>\n",
       "      <td>48.16</td>\n",
       "      <td>8696.87</td>\n",
       "      <td>8603.62</td>\n",
       "      <td>93.25</td>\n",
       "      <td>0.0</td>\n",
       "      <td>conventional</td>\n",
       "      <td>2015</td>\n",
       "      <td>Albany</td>\n",
       "      <td>0</td>\n",
       "    </tr>\n",
       "    <tr>\n",
       "      <th>1</th>\n",
       "      <td>2015-12-20</td>\n",
       "      <td>1.35</td>\n",
       "      <td>54876.98</td>\n",
       "      <td>674.28</td>\n",
       "      <td>44638.81</td>\n",
       "      <td>58.33</td>\n",
       "      <td>9505.56</td>\n",
       "      <td>9408.07</td>\n",
       "      <td>97.49</td>\n",
       "      <td>0.0</td>\n",
       "      <td>conventional</td>\n",
       "      <td>2015</td>\n",
       "      <td>Albany</td>\n",
       "      <td>0</td>\n",
       "    </tr>\n",
       "    <tr>\n",
       "      <th>2</th>\n",
       "      <td>2015-12-13</td>\n",
       "      <td>0.93</td>\n",
       "      <td>118220.22</td>\n",
       "      <td>794.70</td>\n",
       "      <td>109149.67</td>\n",
       "      <td>130.50</td>\n",
       "      <td>8145.35</td>\n",
       "      <td>8042.21</td>\n",
       "      <td>103.14</td>\n",
       "      <td>0.0</td>\n",
       "      <td>conventional</td>\n",
       "      <td>2015</td>\n",
       "      <td>Albany</td>\n",
       "      <td>0</td>\n",
       "    </tr>\n",
       "    <tr>\n",
       "      <th>3</th>\n",
       "      <td>2015-12-06</td>\n",
       "      <td>1.08</td>\n",
       "      <td>78992.15</td>\n",
       "      <td>1132.00</td>\n",
       "      <td>71976.41</td>\n",
       "      <td>72.58</td>\n",
       "      <td>5811.16</td>\n",
       "      <td>5677.40</td>\n",
       "      <td>133.76</td>\n",
       "      <td>0.0</td>\n",
       "      <td>conventional</td>\n",
       "      <td>2015</td>\n",
       "      <td>Albany</td>\n",
       "      <td>0</td>\n",
       "    </tr>\n",
       "    <tr>\n",
       "      <th>4</th>\n",
       "      <td>2015-11-29</td>\n",
       "      <td>1.28</td>\n",
       "      <td>51039.60</td>\n",
       "      <td>941.48</td>\n",
       "      <td>43838.39</td>\n",
       "      <td>75.78</td>\n",
       "      <td>6183.95</td>\n",
       "      <td>5986.26</td>\n",
       "      <td>197.69</td>\n",
       "      <td>0.0</td>\n",
       "      <td>conventional</td>\n",
       "      <td>2015</td>\n",
       "      <td>Albany</td>\n",
       "      <td>0</td>\n",
       "    </tr>\n",
       "    <tr>\n",
       "      <th>...</th>\n",
       "      <td>...</td>\n",
       "      <td>...</td>\n",
       "      <td>...</td>\n",
       "      <td>...</td>\n",
       "      <td>...</td>\n",
       "      <td>...</td>\n",
       "      <td>...</td>\n",
       "      <td>...</td>\n",
       "      <td>...</td>\n",
       "      <td>...</td>\n",
       "      <td>...</td>\n",
       "      <td>...</td>\n",
       "      <td>...</td>\n",
       "      <td>...</td>\n",
       "    </tr>\n",
       "    <tr>\n",
       "      <th>18244</th>\n",
       "      <td>2018-02-04</td>\n",
       "      <td>1.63</td>\n",
       "      <td>17074.83</td>\n",
       "      <td>2046.96</td>\n",
       "      <td>1529.20</td>\n",
       "      <td>0.00</td>\n",
       "      <td>13498.67</td>\n",
       "      <td>13066.82</td>\n",
       "      <td>431.85</td>\n",
       "      <td>0.0</td>\n",
       "      <td>organic</td>\n",
       "      <td>2018</td>\n",
       "      <td>WestTexNewMexico</td>\n",
       "      <td>1</td>\n",
       "    </tr>\n",
       "    <tr>\n",
       "      <th>18245</th>\n",
       "      <td>2018-01-28</td>\n",
       "      <td>1.71</td>\n",
       "      <td>13888.04</td>\n",
       "      <td>1191.70</td>\n",
       "      <td>3431.50</td>\n",
       "      <td>0.00</td>\n",
       "      <td>9264.84</td>\n",
       "      <td>8940.04</td>\n",
       "      <td>324.80</td>\n",
       "      <td>0.0</td>\n",
       "      <td>organic</td>\n",
       "      <td>2018</td>\n",
       "      <td>WestTexNewMexico</td>\n",
       "      <td>1</td>\n",
       "    </tr>\n",
       "    <tr>\n",
       "      <th>18246</th>\n",
       "      <td>2018-01-21</td>\n",
       "      <td>1.87</td>\n",
       "      <td>13766.76</td>\n",
       "      <td>1191.92</td>\n",
       "      <td>2452.79</td>\n",
       "      <td>727.94</td>\n",
       "      <td>9394.11</td>\n",
       "      <td>9351.80</td>\n",
       "      <td>42.31</td>\n",
       "      <td>0.0</td>\n",
       "      <td>organic</td>\n",
       "      <td>2018</td>\n",
       "      <td>WestTexNewMexico</td>\n",
       "      <td>1</td>\n",
       "    </tr>\n",
       "    <tr>\n",
       "      <th>18247</th>\n",
       "      <td>2018-01-14</td>\n",
       "      <td>1.93</td>\n",
       "      <td>16205.22</td>\n",
       "      <td>1527.63</td>\n",
       "      <td>2981.04</td>\n",
       "      <td>727.01</td>\n",
       "      <td>10969.54</td>\n",
       "      <td>10919.54</td>\n",
       "      <td>50.00</td>\n",
       "      <td>0.0</td>\n",
       "      <td>organic</td>\n",
       "      <td>2018</td>\n",
       "      <td>WestTexNewMexico</td>\n",
       "      <td>1</td>\n",
       "    </tr>\n",
       "    <tr>\n",
       "      <th>18248</th>\n",
       "      <td>2018-01-07</td>\n",
       "      <td>1.62</td>\n",
       "      <td>17489.58</td>\n",
       "      <td>2894.77</td>\n",
       "      <td>2356.13</td>\n",
       "      <td>224.53</td>\n",
       "      <td>12014.15</td>\n",
       "      <td>11988.14</td>\n",
       "      <td>26.01</td>\n",
       "      <td>0.0</td>\n",
       "      <td>organic</td>\n",
       "      <td>2018</td>\n",
       "      <td>WestTexNewMexico</td>\n",
       "      <td>1</td>\n",
       "    </tr>\n",
       "  </tbody>\n",
       "</table>\n",
       "<p>18249 rows × 14 columns</p>\n",
       "</div>"
      ],
      "text/plain": [
       "             Date  AveragePrice  Total Volume     4046       4225    4770  \\\n",
       "0      2015-12-27          1.33      64236.62  1036.74   54454.85   48.16   \n",
       "1      2015-12-20          1.35      54876.98   674.28   44638.81   58.33   \n",
       "2      2015-12-13          0.93     118220.22   794.70  109149.67  130.50   \n",
       "3      2015-12-06          1.08      78992.15  1132.00   71976.41   72.58   \n",
       "4      2015-11-29          1.28      51039.60   941.48   43838.39   75.78   \n",
       "...           ...           ...           ...      ...        ...     ...   \n",
       "18244  2018-02-04          1.63      17074.83  2046.96    1529.20    0.00   \n",
       "18245  2018-01-28          1.71      13888.04  1191.70    3431.50    0.00   \n",
       "18246  2018-01-21          1.87      13766.76  1191.92    2452.79  727.94   \n",
       "18247  2018-01-14          1.93      16205.22  1527.63    2981.04  727.01   \n",
       "18248  2018-01-07          1.62      17489.58  2894.77    2356.13  224.53   \n",
       "\n",
       "       Total Bags  Small Bags  Large Bags  XLarge Bags          type  year  \\\n",
       "0         8696.87     8603.62       93.25          0.0  conventional  2015   \n",
       "1         9505.56     9408.07       97.49          0.0  conventional  2015   \n",
       "2         8145.35     8042.21      103.14          0.0  conventional  2015   \n",
       "3         5811.16     5677.40      133.76          0.0  conventional  2015   \n",
       "4         6183.95     5986.26      197.69          0.0  conventional  2015   \n",
       "...           ...         ...         ...          ...           ...   ...   \n",
       "18244    13498.67    13066.82      431.85          0.0       organic  2018   \n",
       "18245     9264.84     8940.04      324.80          0.0       organic  2018   \n",
       "18246     9394.11     9351.80       42.31          0.0       organic  2018   \n",
       "18247    10969.54    10919.54       50.00          0.0       organic  2018   \n",
       "18248    12014.15    11988.14       26.01          0.0       organic  2018   \n",
       "\n",
       "                 region  Cluster  \n",
       "0                Albany        0  \n",
       "1                Albany        0  \n",
       "2                Albany        0  \n",
       "3                Albany        0  \n",
       "4                Albany        0  \n",
       "...                 ...      ...  \n",
       "18244  WestTexNewMexico        1  \n",
       "18245  WestTexNewMexico        1  \n",
       "18246  WestTexNewMexico        1  \n",
       "18247  WestTexNewMexico        1  \n",
       "18248  WestTexNewMexico        1  \n",
       "\n",
       "[18249 rows x 14 columns]"
      ]
     },
     "execution_count": 453,
     "metadata": {},
     "output_type": "execute_result"
    }
   ],
   "source": [
    "df['Cluster'] = df['type'].apply(converter)\n",
    "df"
   ]
  },
  {
   "cell_type": "code",
   "execution_count": 454,
   "metadata": {},
   "outputs": [
    {
     "data": {
      "text/html": [
       "<div>\n",
       "<style scoped>\n",
       "    .dataframe tbody tr th:only-of-type {\n",
       "        vertical-align: middle;\n",
       "    }\n",
       "\n",
       "    .dataframe tbody tr th {\n",
       "        vertical-align: top;\n",
       "    }\n",
       "\n",
       "    .dataframe thead th {\n",
       "        text-align: right;\n",
       "    }\n",
       "</style>\n",
       "<table border=\"1\" class=\"dataframe\">\n",
       "  <thead>\n",
       "    <tr style=\"text-align: right;\">\n",
       "      <th></th>\n",
       "      <th>Date</th>\n",
       "      <th>AveragePrice</th>\n",
       "      <th>Total Volume</th>\n",
       "      <th>4046</th>\n",
       "      <th>4225</th>\n",
       "      <th>4770</th>\n",
       "      <th>Total Bags</th>\n",
       "      <th>Small Bags</th>\n",
       "      <th>Large Bags</th>\n",
       "      <th>XLarge Bags</th>\n",
       "      <th>year</th>\n",
       "      <th>region</th>\n",
       "      <th>Cluster</th>\n",
       "    </tr>\n",
       "  </thead>\n",
       "  <tbody>\n",
       "    <tr>\n",
       "      <th>0</th>\n",
       "      <td>2015-12-27</td>\n",
       "      <td>1.33</td>\n",
       "      <td>64236.62</td>\n",
       "      <td>1036.74</td>\n",
       "      <td>54454.85</td>\n",
       "      <td>48.16</td>\n",
       "      <td>8696.87</td>\n",
       "      <td>8603.62</td>\n",
       "      <td>93.25</td>\n",
       "      <td>0.0</td>\n",
       "      <td>2015</td>\n",
       "      <td>Albany</td>\n",
       "      <td>0</td>\n",
       "    </tr>\n",
       "    <tr>\n",
       "      <th>1</th>\n",
       "      <td>2015-12-20</td>\n",
       "      <td>1.35</td>\n",
       "      <td>54876.98</td>\n",
       "      <td>674.28</td>\n",
       "      <td>44638.81</td>\n",
       "      <td>58.33</td>\n",
       "      <td>9505.56</td>\n",
       "      <td>9408.07</td>\n",
       "      <td>97.49</td>\n",
       "      <td>0.0</td>\n",
       "      <td>2015</td>\n",
       "      <td>Albany</td>\n",
       "      <td>0</td>\n",
       "    </tr>\n",
       "    <tr>\n",
       "      <th>2</th>\n",
       "      <td>2015-12-13</td>\n",
       "      <td>0.93</td>\n",
       "      <td>118220.22</td>\n",
       "      <td>794.70</td>\n",
       "      <td>109149.67</td>\n",
       "      <td>130.50</td>\n",
       "      <td>8145.35</td>\n",
       "      <td>8042.21</td>\n",
       "      <td>103.14</td>\n",
       "      <td>0.0</td>\n",
       "      <td>2015</td>\n",
       "      <td>Albany</td>\n",
       "      <td>0</td>\n",
       "    </tr>\n",
       "    <tr>\n",
       "      <th>3</th>\n",
       "      <td>2015-12-06</td>\n",
       "      <td>1.08</td>\n",
       "      <td>78992.15</td>\n",
       "      <td>1132.00</td>\n",
       "      <td>71976.41</td>\n",
       "      <td>72.58</td>\n",
       "      <td>5811.16</td>\n",
       "      <td>5677.40</td>\n",
       "      <td>133.76</td>\n",
       "      <td>0.0</td>\n",
       "      <td>2015</td>\n",
       "      <td>Albany</td>\n",
       "      <td>0</td>\n",
       "    </tr>\n",
       "    <tr>\n",
       "      <th>4</th>\n",
       "      <td>2015-11-29</td>\n",
       "      <td>1.28</td>\n",
       "      <td>51039.60</td>\n",
       "      <td>941.48</td>\n",
       "      <td>43838.39</td>\n",
       "      <td>75.78</td>\n",
       "      <td>6183.95</td>\n",
       "      <td>5986.26</td>\n",
       "      <td>197.69</td>\n",
       "      <td>0.0</td>\n",
       "      <td>2015</td>\n",
       "      <td>Albany</td>\n",
       "      <td>0</td>\n",
       "    </tr>\n",
       "    <tr>\n",
       "      <th>...</th>\n",
       "      <td>...</td>\n",
       "      <td>...</td>\n",
       "      <td>...</td>\n",
       "      <td>...</td>\n",
       "      <td>...</td>\n",
       "      <td>...</td>\n",
       "      <td>...</td>\n",
       "      <td>...</td>\n",
       "      <td>...</td>\n",
       "      <td>...</td>\n",
       "      <td>...</td>\n",
       "      <td>...</td>\n",
       "      <td>...</td>\n",
       "    </tr>\n",
       "    <tr>\n",
       "      <th>18244</th>\n",
       "      <td>2018-02-04</td>\n",
       "      <td>1.63</td>\n",
       "      <td>17074.83</td>\n",
       "      <td>2046.96</td>\n",
       "      <td>1529.20</td>\n",
       "      <td>0.00</td>\n",
       "      <td>13498.67</td>\n",
       "      <td>13066.82</td>\n",
       "      <td>431.85</td>\n",
       "      <td>0.0</td>\n",
       "      <td>2018</td>\n",
       "      <td>WestTexNewMexico</td>\n",
       "      <td>1</td>\n",
       "    </tr>\n",
       "    <tr>\n",
       "      <th>18245</th>\n",
       "      <td>2018-01-28</td>\n",
       "      <td>1.71</td>\n",
       "      <td>13888.04</td>\n",
       "      <td>1191.70</td>\n",
       "      <td>3431.50</td>\n",
       "      <td>0.00</td>\n",
       "      <td>9264.84</td>\n",
       "      <td>8940.04</td>\n",
       "      <td>324.80</td>\n",
       "      <td>0.0</td>\n",
       "      <td>2018</td>\n",
       "      <td>WestTexNewMexico</td>\n",
       "      <td>1</td>\n",
       "    </tr>\n",
       "    <tr>\n",
       "      <th>18246</th>\n",
       "      <td>2018-01-21</td>\n",
       "      <td>1.87</td>\n",
       "      <td>13766.76</td>\n",
       "      <td>1191.92</td>\n",
       "      <td>2452.79</td>\n",
       "      <td>727.94</td>\n",
       "      <td>9394.11</td>\n",
       "      <td>9351.80</td>\n",
       "      <td>42.31</td>\n",
       "      <td>0.0</td>\n",
       "      <td>2018</td>\n",
       "      <td>WestTexNewMexico</td>\n",
       "      <td>1</td>\n",
       "    </tr>\n",
       "    <tr>\n",
       "      <th>18247</th>\n",
       "      <td>2018-01-14</td>\n",
       "      <td>1.93</td>\n",
       "      <td>16205.22</td>\n",
       "      <td>1527.63</td>\n",
       "      <td>2981.04</td>\n",
       "      <td>727.01</td>\n",
       "      <td>10969.54</td>\n",
       "      <td>10919.54</td>\n",
       "      <td>50.00</td>\n",
       "      <td>0.0</td>\n",
       "      <td>2018</td>\n",
       "      <td>WestTexNewMexico</td>\n",
       "      <td>1</td>\n",
       "    </tr>\n",
       "    <tr>\n",
       "      <th>18248</th>\n",
       "      <td>2018-01-07</td>\n",
       "      <td>1.62</td>\n",
       "      <td>17489.58</td>\n",
       "      <td>2894.77</td>\n",
       "      <td>2356.13</td>\n",
       "      <td>224.53</td>\n",
       "      <td>12014.15</td>\n",
       "      <td>11988.14</td>\n",
       "      <td>26.01</td>\n",
       "      <td>0.0</td>\n",
       "      <td>2018</td>\n",
       "      <td>WestTexNewMexico</td>\n",
       "      <td>1</td>\n",
       "    </tr>\n",
       "  </tbody>\n",
       "</table>\n",
       "<p>18249 rows × 13 columns</p>\n",
       "</div>"
      ],
      "text/plain": [
       "             Date  AveragePrice  Total Volume     4046       4225    4770  \\\n",
       "0      2015-12-27          1.33      64236.62  1036.74   54454.85   48.16   \n",
       "1      2015-12-20          1.35      54876.98   674.28   44638.81   58.33   \n",
       "2      2015-12-13          0.93     118220.22   794.70  109149.67  130.50   \n",
       "3      2015-12-06          1.08      78992.15  1132.00   71976.41   72.58   \n",
       "4      2015-11-29          1.28      51039.60   941.48   43838.39   75.78   \n",
       "...           ...           ...           ...      ...        ...     ...   \n",
       "18244  2018-02-04          1.63      17074.83  2046.96    1529.20    0.00   \n",
       "18245  2018-01-28          1.71      13888.04  1191.70    3431.50    0.00   \n",
       "18246  2018-01-21          1.87      13766.76  1191.92    2452.79  727.94   \n",
       "18247  2018-01-14          1.93      16205.22  1527.63    2981.04  727.01   \n",
       "18248  2018-01-07          1.62      17489.58  2894.77    2356.13  224.53   \n",
       "\n",
       "       Total Bags  Small Bags  Large Bags  XLarge Bags  year  \\\n",
       "0         8696.87     8603.62       93.25          0.0  2015   \n",
       "1         9505.56     9408.07       97.49          0.0  2015   \n",
       "2         8145.35     8042.21      103.14          0.0  2015   \n",
       "3         5811.16     5677.40      133.76          0.0  2015   \n",
       "4         6183.95     5986.26      197.69          0.0  2015   \n",
       "...           ...         ...         ...          ...   ...   \n",
       "18244    13498.67    13066.82      431.85          0.0  2018   \n",
       "18245     9264.84     8940.04      324.80          0.0  2018   \n",
       "18246     9394.11     9351.80       42.31          0.0  2018   \n",
       "18247    10969.54    10919.54       50.00          0.0  2018   \n",
       "18248    12014.15    11988.14       26.01          0.0  2018   \n",
       "\n",
       "                 region  Cluster  \n",
       "0                Albany        0  \n",
       "1                Albany        0  \n",
       "2                Albany        0  \n",
       "3                Albany        0  \n",
       "4                Albany        0  \n",
       "...                 ...      ...  \n",
       "18244  WestTexNewMexico        1  \n",
       "18245  WestTexNewMexico        1  \n",
       "18246  WestTexNewMexico        1  \n",
       "18247  WestTexNewMexico        1  \n",
       "18248  WestTexNewMexico        1  \n",
       "\n",
       "[18249 rows x 13 columns]"
      ]
     },
     "execution_count": 454,
     "metadata": {},
     "output_type": "execute_result"
    }
   ],
   "source": [
    "df.drop('type',axis=1,inplace=True)\n",
    "df"
   ]
  },
  {
   "cell_type": "code",
   "execution_count": 458,
   "metadata": {},
   "outputs": [
    {
     "data": {
      "text/html": [
       "<div>\n",
       "<style scoped>\n",
       "    .dataframe tbody tr th:only-of-type {\n",
       "        vertical-align: middle;\n",
       "    }\n",
       "\n",
       "    .dataframe tbody tr th {\n",
       "        vertical-align: top;\n",
       "    }\n",
       "\n",
       "    .dataframe thead th {\n",
       "        text-align: right;\n",
       "    }\n",
       "</style>\n",
       "<table border=\"1\" class=\"dataframe\">\n",
       "  <thead>\n",
       "    <tr style=\"text-align: right;\">\n",
       "      <th></th>\n",
       "      <th>AveragePrice</th>\n",
       "      <th>Total Volume</th>\n",
       "      <th>4046</th>\n",
       "      <th>4225</th>\n",
       "      <th>4770</th>\n",
       "      <th>Total Bags</th>\n",
       "      <th>Small Bags</th>\n",
       "      <th>Large Bags</th>\n",
       "      <th>XLarge Bags</th>\n",
       "      <th>year</th>\n",
       "      <th>Cluster</th>\n",
       "    </tr>\n",
       "  </thead>\n",
       "  <tbody>\n",
       "    <tr>\n",
       "      <th>0</th>\n",
       "      <td>1.33</td>\n",
       "      <td>64236.62</td>\n",
       "      <td>1036.74</td>\n",
       "      <td>54454.85</td>\n",
       "      <td>48.16</td>\n",
       "      <td>8696.87</td>\n",
       "      <td>8603.62</td>\n",
       "      <td>93.25</td>\n",
       "      <td>0.0</td>\n",
       "      <td>2015</td>\n",
       "      <td>0</td>\n",
       "    </tr>\n",
       "    <tr>\n",
       "      <th>1</th>\n",
       "      <td>1.35</td>\n",
       "      <td>54876.98</td>\n",
       "      <td>674.28</td>\n",
       "      <td>44638.81</td>\n",
       "      <td>58.33</td>\n",
       "      <td>9505.56</td>\n",
       "      <td>9408.07</td>\n",
       "      <td>97.49</td>\n",
       "      <td>0.0</td>\n",
       "      <td>2015</td>\n",
       "      <td>0</td>\n",
       "    </tr>\n",
       "    <tr>\n",
       "      <th>2</th>\n",
       "      <td>0.93</td>\n",
       "      <td>118220.22</td>\n",
       "      <td>794.70</td>\n",
       "      <td>109149.67</td>\n",
       "      <td>130.50</td>\n",
       "      <td>8145.35</td>\n",
       "      <td>8042.21</td>\n",
       "      <td>103.14</td>\n",
       "      <td>0.0</td>\n",
       "      <td>2015</td>\n",
       "      <td>0</td>\n",
       "    </tr>\n",
       "    <tr>\n",
       "      <th>3</th>\n",
       "      <td>1.08</td>\n",
       "      <td>78992.15</td>\n",
       "      <td>1132.00</td>\n",
       "      <td>71976.41</td>\n",
       "      <td>72.58</td>\n",
       "      <td>5811.16</td>\n",
       "      <td>5677.40</td>\n",
       "      <td>133.76</td>\n",
       "      <td>0.0</td>\n",
       "      <td>2015</td>\n",
       "      <td>0</td>\n",
       "    </tr>\n",
       "    <tr>\n",
       "      <th>4</th>\n",
       "      <td>1.28</td>\n",
       "      <td>51039.60</td>\n",
       "      <td>941.48</td>\n",
       "      <td>43838.39</td>\n",
       "      <td>75.78</td>\n",
       "      <td>6183.95</td>\n",
       "      <td>5986.26</td>\n",
       "      <td>197.69</td>\n",
       "      <td>0.0</td>\n",
       "      <td>2015</td>\n",
       "      <td>0</td>\n",
       "    </tr>\n",
       "    <tr>\n",
       "      <th>...</th>\n",
       "      <td>...</td>\n",
       "      <td>...</td>\n",
       "      <td>...</td>\n",
       "      <td>...</td>\n",
       "      <td>...</td>\n",
       "      <td>...</td>\n",
       "      <td>...</td>\n",
       "      <td>...</td>\n",
       "      <td>...</td>\n",
       "      <td>...</td>\n",
       "      <td>...</td>\n",
       "    </tr>\n",
       "    <tr>\n",
       "      <th>18244</th>\n",
       "      <td>1.63</td>\n",
       "      <td>17074.83</td>\n",
       "      <td>2046.96</td>\n",
       "      <td>1529.20</td>\n",
       "      <td>0.00</td>\n",
       "      <td>13498.67</td>\n",
       "      <td>13066.82</td>\n",
       "      <td>431.85</td>\n",
       "      <td>0.0</td>\n",
       "      <td>2018</td>\n",
       "      <td>1</td>\n",
       "    </tr>\n",
       "    <tr>\n",
       "      <th>18245</th>\n",
       "      <td>1.71</td>\n",
       "      <td>13888.04</td>\n",
       "      <td>1191.70</td>\n",
       "      <td>3431.50</td>\n",
       "      <td>0.00</td>\n",
       "      <td>9264.84</td>\n",
       "      <td>8940.04</td>\n",
       "      <td>324.80</td>\n",
       "      <td>0.0</td>\n",
       "      <td>2018</td>\n",
       "      <td>1</td>\n",
       "    </tr>\n",
       "    <tr>\n",
       "      <th>18246</th>\n",
       "      <td>1.87</td>\n",
       "      <td>13766.76</td>\n",
       "      <td>1191.92</td>\n",
       "      <td>2452.79</td>\n",
       "      <td>727.94</td>\n",
       "      <td>9394.11</td>\n",
       "      <td>9351.80</td>\n",
       "      <td>42.31</td>\n",
       "      <td>0.0</td>\n",
       "      <td>2018</td>\n",
       "      <td>1</td>\n",
       "    </tr>\n",
       "    <tr>\n",
       "      <th>18247</th>\n",
       "      <td>1.93</td>\n",
       "      <td>16205.22</td>\n",
       "      <td>1527.63</td>\n",
       "      <td>2981.04</td>\n",
       "      <td>727.01</td>\n",
       "      <td>10969.54</td>\n",
       "      <td>10919.54</td>\n",
       "      <td>50.00</td>\n",
       "      <td>0.0</td>\n",
       "      <td>2018</td>\n",
       "      <td>1</td>\n",
       "    </tr>\n",
       "    <tr>\n",
       "      <th>18248</th>\n",
       "      <td>1.62</td>\n",
       "      <td>17489.58</td>\n",
       "      <td>2894.77</td>\n",
       "      <td>2356.13</td>\n",
       "      <td>224.53</td>\n",
       "      <td>12014.15</td>\n",
       "      <td>11988.14</td>\n",
       "      <td>26.01</td>\n",
       "      <td>0.0</td>\n",
       "      <td>2018</td>\n",
       "      <td>1</td>\n",
       "    </tr>\n",
       "  </tbody>\n",
       "</table>\n",
       "<p>18249 rows × 11 columns</p>\n",
       "</div>"
      ],
      "text/plain": [
       "       AveragePrice  Total Volume     4046       4225    4770  Total Bags  \\\n",
       "0              1.33      64236.62  1036.74   54454.85   48.16     8696.87   \n",
       "1              1.35      54876.98   674.28   44638.81   58.33     9505.56   \n",
       "2              0.93     118220.22   794.70  109149.67  130.50     8145.35   \n",
       "3              1.08      78992.15  1132.00   71976.41   72.58     5811.16   \n",
       "4              1.28      51039.60   941.48   43838.39   75.78     6183.95   \n",
       "...             ...           ...      ...        ...     ...         ...   \n",
       "18244          1.63      17074.83  2046.96    1529.20    0.00    13498.67   \n",
       "18245          1.71      13888.04  1191.70    3431.50    0.00     9264.84   \n",
       "18246          1.87      13766.76  1191.92    2452.79  727.94     9394.11   \n",
       "18247          1.93      16205.22  1527.63    2981.04  727.01    10969.54   \n",
       "18248          1.62      17489.58  2894.77    2356.13  224.53    12014.15   \n",
       "\n",
       "       Small Bags  Large Bags  XLarge Bags  year  Cluster  \n",
       "0         8603.62       93.25          0.0  2015        0  \n",
       "1         9408.07       97.49          0.0  2015        0  \n",
       "2         8042.21      103.14          0.0  2015        0  \n",
       "3         5677.40      133.76          0.0  2015        0  \n",
       "4         5986.26      197.69          0.0  2015        0  \n",
       "...           ...         ...          ...   ...      ...  \n",
       "18244    13066.82      431.85          0.0  2018        1  \n",
       "18245     8940.04      324.80          0.0  2018        1  \n",
       "18246     9351.80       42.31          0.0  2018        1  \n",
       "18247    10919.54       50.00          0.0  2018        1  \n",
       "18248    11988.14       26.01          0.0  2018        1  \n",
       "\n",
       "[18249 rows x 11 columns]"
      ]
     },
     "execution_count": 458,
     "metadata": {},
     "output_type": "execute_result"
    }
   ],
   "source": [
    "#df.drop('Date',axis=1,inplace=True)\n",
    "df.drop('region',axis=1,inplace=True)\n",
    "df"
   ]
  },
  {
   "cell_type": "code",
   "execution_count": 503,
   "metadata": {},
   "outputs": [],
   "source": [
    "data = pd.read_csv('avocado.csv')\n",
    "#mae, mse = model.evaluate(X_test, Y_test, verbose=0)\n",
    "#print('mae:',mae)\n",
    "#print('mse:',mse)"
   ]
  },
  {
   "cell_type": "code",
   "execution_count": 504,
   "metadata": {},
   "outputs": [
    {
     "data": {
      "text/plain": [
       "<matplotlib.axes._subplots.AxesSubplot at 0x1156b9d50>"
      ]
     },
     "execution_count": 504,
     "metadata": {},
     "output_type": "execute_result"
    },
    {
     "data": {
      "image/png": "[encoded data removed]",
      "text/plain": [
       "<Figure size 864x432 with 2 Axes>"
      ]
     },
     "metadata": {
      "needs_background": "light"
     },
     "output_type": "display_data"
    }
   ],
   "source": [
    "plt.figure(figsize=(12,6))\n",
    "sns.heatmap(data.corr(),cmap='coolwarm',annot=True)"
   ]
  },
  {
   "cell_type": "code",
   "execution_count": 505,
   "metadata": {},
   "outputs": [
    {
     "data": {
      "text/plain": [
       "54"
      ]
     },
     "execution_count": 505,
     "metadata": {},
     "output_type": "execute_result"
    }
   ],
   "source": [
    "data['region'].nunique()"
   ]
  },
  {
   "cell_type": "code",
   "execution_count": 507,
   "metadata": {},
   "outputs": [
    {
     "data": {
      "text/plain": [
       "4"
      ]
     },
     "execution_count": 507,
     "metadata": {},
     "output_type": "execute_result"
    }
   ],
   "source": [
    "data['year'].nunique()"
   ]
  },
  {
   "cell_type": "code",
   "execution_count": 510,
   "metadata": {},
   "outputs": [],
   "source": [
    "data.drop('Unnamed: 0',axis=1,inplace=True)"
   ]
  },
  {
   "cell_type": "code",
   "execution_count": 511,
   "metadata": {},
   "outputs": [],
   "source": [
    "final_df =pd.get_dummies(data.drop(['region','Date'],axis=1),drop_first=True)"
   ]
  },
  {
   "cell_type": "code",
   "execution_count": 512,
   "metadata": {},
   "outputs": [
    {
     "data": {
      "text/html": [
       "<div>\n",
       "<style scoped>\n",
       "    .dataframe tbody tr th:only-of-type {\n",
       "        vertical-align: middle;\n",
       "    }\n",
       "\n",
       "    .dataframe tbody tr th {\n",
       "        vertical-align: top;\n",
       "    }\n",
       "\n",
       "    .dataframe thead th {\n",
       "        text-align: right;\n",
       "    }\n",
       "</style>\n",
       "<table border=\"1\" class=\"dataframe\">\n",
       "  <thead>\n",
       "    <tr style=\"text-align: right;\">\n",
       "      <th></th>\n",
       "      <th>AveragePrice</th>\n",
       "      <th>Total Volume</th>\n",
       "      <th>4046</th>\n",
       "      <th>4225</th>\n",
       "      <th>4770</th>\n",
       "      <th>Total Bags</th>\n",
       "      <th>Small Bags</th>\n",
       "      <th>Large Bags</th>\n",
       "      <th>XLarge Bags</th>\n",
       "      <th>year</th>\n",
       "      <th>type_organic</th>\n",
       "    </tr>\n",
       "  </thead>\n",
       "  <tbody>\n",
       "    <tr>\n",
       "      <th>0</th>\n",
       "      <td>1.33</td>\n",
       "      <td>64236.62</td>\n",
       "      <td>1036.74</td>\n",
       "      <td>54454.85</td>\n",
       "      <td>48.16</td>\n",
       "      <td>8696.87</td>\n",
       "      <td>8603.62</td>\n",
       "      <td>93.25</td>\n",
       "      <td>0.0</td>\n",
       "      <td>2015</td>\n",
       "      <td>0</td>\n",
       "    </tr>\n",
       "    <tr>\n",
       "      <th>1</th>\n",
       "      <td>1.35</td>\n",
       "      <td>54876.98</td>\n",
       "      <td>674.28</td>\n",
       "      <td>44638.81</td>\n",
       "      <td>58.33</td>\n",
       "      <td>9505.56</td>\n",
       "      <td>9408.07</td>\n",
       "      <td>97.49</td>\n",
       "      <td>0.0</td>\n",
       "      <td>2015</td>\n",
       "      <td>0</td>\n",
       "    </tr>\n",
       "    <tr>\n",
       "      <th>2</th>\n",
       "      <td>0.93</td>\n",
       "      <td>118220.22</td>\n",
       "      <td>794.70</td>\n",
       "      <td>109149.67</td>\n",
       "      <td>130.50</td>\n",
       "      <td>8145.35</td>\n",
       "      <td>8042.21</td>\n",
       "      <td>103.14</td>\n",
       "      <td>0.0</td>\n",
       "      <td>2015</td>\n",
       "      <td>0</td>\n",
       "    </tr>\n",
       "    <tr>\n",
       "      <th>3</th>\n",
       "      <td>1.08</td>\n",
       "      <td>78992.15</td>\n",
       "      <td>1132.00</td>\n",
       "      <td>71976.41</td>\n",
       "      <td>72.58</td>\n",
       "      <td>5811.16</td>\n",
       "      <td>5677.40</td>\n",
       "      <td>133.76</td>\n",
       "      <td>0.0</td>\n",
       "      <td>2015</td>\n",
       "      <td>0</td>\n",
       "    </tr>\n",
       "    <tr>\n",
       "      <th>4</th>\n",
       "      <td>1.28</td>\n",
       "      <td>51039.60</td>\n",
       "      <td>941.48</td>\n",
       "      <td>43838.39</td>\n",
       "      <td>75.78</td>\n",
       "      <td>6183.95</td>\n",
       "      <td>5986.26</td>\n",
       "      <td>197.69</td>\n",
       "      <td>0.0</td>\n",
       "      <td>2015</td>\n",
       "      <td>0</td>\n",
       "    </tr>\n",
       "    <tr>\n",
       "      <th>...</th>\n",
       "      <td>...</td>\n",
       "      <td>...</td>\n",
       "      <td>...</td>\n",
       "      <td>...</td>\n",
       "      <td>...</td>\n",
       "      <td>...</td>\n",
       "      <td>...</td>\n",
       "      <td>...</td>\n",
       "      <td>...</td>\n",
       "      <td>...</td>\n",
       "      <td>...</td>\n",
       "    </tr>\n",
       "    <tr>\n",
       "      <th>18244</th>\n",
       "      <td>1.63</td>\n",
       "      <td>17074.83</td>\n",
       "      <td>2046.96</td>\n",
       "      <td>1529.20</td>\n",
       "      <td>0.00</td>\n",
       "      <td>13498.67</td>\n",
       "      <td>13066.82</td>\n",
       "      <td>431.85</td>\n",
       "      <td>0.0</td>\n",
       "      <td>2018</td>\n",
       "      <td>1</td>\n",
       "    </tr>\n",
       "    <tr>\n",
       "      <th>18245</th>\n",
       "      <td>1.71</td>\n",
       "      <td>13888.04</td>\n",
       "      <td>1191.70</td>\n",
       "      <td>3431.50</td>\n",
       "      <td>0.00</td>\n",
       "      <td>9264.84</td>\n",
       "      <td>8940.04</td>\n",
       "      <td>324.80</td>\n",
       "      <td>0.0</td>\n",
       "      <td>2018</td>\n",
       "      <td>1</td>\n",
       "    </tr>\n",
       "    <tr>\n",
       "      <th>18246</th>\n",
       "      <td>1.87</td>\n",
       "      <td>13766.76</td>\n",
       "      <td>1191.92</td>\n",
       "      <td>2452.79</td>\n",
       "      <td>727.94</td>\n",
       "      <td>9394.11</td>\n",
       "      <td>9351.80</td>\n",
       "      <td>42.31</td>\n",
       "      <td>0.0</td>\n",
       "      <td>2018</td>\n",
       "      <td>1</td>\n",
       "    </tr>\n",
       "    <tr>\n",
       "      <th>18247</th>\n",
       "      <td>1.93</td>\n",
       "      <td>16205.22</td>\n",
       "      <td>1527.63</td>\n",
       "      <td>2981.04</td>\n",
       "      <td>727.01</td>\n",
       "      <td>10969.54</td>\n",
       "      <td>10919.54</td>\n",
       "      <td>50.00</td>\n",
       "      <td>0.0</td>\n",
       "      <td>2018</td>\n",
       "      <td>1</td>\n",
       "    </tr>\n",
       "    <tr>\n",
       "      <th>18248</th>\n",
       "      <td>1.62</td>\n",
       "      <td>17489.58</td>\n",
       "      <td>2894.77</td>\n",
       "      <td>2356.13</td>\n",
       "      <td>224.53</td>\n",
       "      <td>12014.15</td>\n",
       "      <td>11988.14</td>\n",
       "      <td>26.01</td>\n",
       "      <td>0.0</td>\n",
       "      <td>2018</td>\n",
       "      <td>1</td>\n",
       "    </tr>\n",
       "  </tbody>\n",
       "</table>\n",
       "<p>18249 rows × 11 columns</p>\n",
       "</div>"
      ],
      "text/plain": [
       "       AveragePrice  Total Volume     4046       4225    4770  Total Bags  \\\n",
       "0              1.33      64236.62  1036.74   54454.85   48.16     8696.87   \n",
       "1              1.35      54876.98   674.28   44638.81   58.33     9505.56   \n",
       "2              0.93     118220.22   794.70  109149.67  130.50     8145.35   \n",
       "3              1.08      78992.15  1132.00   71976.41   72.58     5811.16   \n",
       "4              1.28      51039.60   941.48   43838.39   75.78     6183.95   \n",
       "...             ...           ...      ...        ...     ...         ...   \n",
       "18244          1.63      17074.83  2046.96    1529.20    0.00    13498.67   \n",
       "18245          1.71      13888.04  1191.70    3431.50    0.00     9264.84   \n",
       "18246          1.87      13766.76  1191.92    2452.79  727.94     9394.11   \n",
       "18247          1.93      16205.22  1527.63    2981.04  727.01    10969.54   \n",
       "18248          1.62      17489.58  2894.77    2356.13  224.53    12014.15   \n",
       "\n",
       "       Small Bags  Large Bags  XLarge Bags  year  type_organic  \n",
       "0         8603.62       93.25          0.0  2015             0  \n",
       "1         9408.07       97.49          0.0  2015             0  \n",
       "2         8042.21      103.14          0.0  2015             0  \n",
       "3         5677.40      133.76          0.0  2015             0  \n",
       "4         5986.26      197.69          0.0  2015             0  \n",
       "...           ...         ...          ...   ...           ...  \n",
       "18244    13066.82      431.85          0.0  2018             1  \n",
       "18245     8940.04      324.80          0.0  2018             1  \n",
       "18246     9351.80       42.31          0.0  2018             1  \n",
       "18247    10919.54       50.00          0.0  2018             1  \n",
       "18248    11988.14       26.01          0.0  2018             1  \n",
       "\n",
       "[18249 rows x 11 columns]"
      ]
     },
     "execution_count": 512,
     "metadata": {},
     "output_type": "execute_result"
    }
   ],
   "source": [
    "final_df"
   ]
  },
  {
   "cell_type": "code",
   "execution_count": 516,
   "metadata": {},
   "outputs": [],
   "source": [
    "X=final_df.iloc[:,1:11]\n",
    "y=final_df['AveragePrice']"
   ]
  },
  {
   "cell_type": "code",
   "execution_count": 517,
   "metadata": {},
   "outputs": [],
   "source": [
    "from sklearn.model_selection import train_test_split\n",
    "X_train,X_test,y_train,y_test=train_test_split(X,y,test_size=0.2,random_state=42)"
   ]
  },
  {
   "cell_type": "code",
   "execution_count": 518,
   "metadata": {},
   "outputs": [],
   "source": [
    "from sklearn.linear_model import LinearRegression\n",
    "lr=LinearRegression()\n",
    "lr.fit(X_train,y_train)\n",
    "pred=lr.predict(X_test)"
   ]
  },
  {
   "cell_type": "code",
   "execution_count": 520,
   "metadata": {},
   "outputs": [],
   "source": [
    "y_pred = lr.predict(X_test)\n"
   ]
  },
  {
   "cell_type": "code",
   "execution_count": 523,
   "metadata": {},
   "outputs": [
    {
     "data": {
      "text/html": [
       "<div>\n",
       "<style scoped>\n",
       "    .dataframe tbody tr th:only-of-type {\n",
       "        vertical-align: middle;\n",
       "    }\n",
       "\n",
       "    .dataframe tbody tr th {\n",
       "        vertical-align: top;\n",
       "    }\n",
       "\n",
       "    .dataframe thead th {\n",
       "        text-align: right;\n",
       "    }\n",
       "</style>\n",
       "<table border=\"1\" class=\"dataframe\">\n",
       "  <thead>\n",
       "    <tr style=\"text-align: right;\">\n",
       "      <th></th>\n",
       "      <th>Actual</th>\n",
       "      <th>Predicted</th>\n",
       "    </tr>\n",
       "  </thead>\n",
       "  <tbody>\n",
       "    <tr>\n",
       "      <th>8604</th>\n",
       "      <td>0.82</td>\n",
       "      <td>1.228094</td>\n",
       "    </tr>\n",
       "    <tr>\n",
       "      <th>2608</th>\n",
       "      <td>0.97</td>\n",
       "      <td>1.102022</td>\n",
       "    </tr>\n",
       "    <tr>\n",
       "      <th>14581</th>\n",
       "      <td>1.44</td>\n",
       "      <td>1.648891</td>\n",
       "    </tr>\n",
       "    <tr>\n",
       "      <th>4254</th>\n",
       "      <td>0.97</td>\n",
       "      <td>1.146743</td>\n",
       "    </tr>\n",
       "    <tr>\n",
       "      <th>16588</th>\n",
       "      <td>1.45</td>\n",
       "      <td>1.686817</td>\n",
       "    </tr>\n",
       "    <tr>\n",
       "      <th>...</th>\n",
       "      <td>...</td>\n",
       "      <td>...</td>\n",
       "    </tr>\n",
       "    <tr>\n",
       "      <th>15956</th>\n",
       "      <td>1.27</td>\n",
       "      <td>1.688523</td>\n",
       "    </tr>\n",
       "    <tr>\n",
       "      <th>12471</th>\n",
       "      <td>1.67</td>\n",
       "      <td>1.649132</td>\n",
       "    </tr>\n",
       "    <tr>\n",
       "      <th>4574</th>\n",
       "      <td>0.59</td>\n",
       "      <td>1.097055</td>\n",
       "    </tr>\n",
       "    <tr>\n",
       "      <th>16359</th>\n",
       "      <td>1.92</td>\n",
       "      <td>1.687211</td>\n",
       "    </tr>\n",
       "    <tr>\n",
       "      <th>16249</th>\n",
       "      <td>1.79</td>\n",
       "      <td>1.688088</td>\n",
       "    </tr>\n",
       "  </tbody>\n",
       "</table>\n",
       "<p>3650 rows × 2 columns</p>\n",
       "</div>"
      ],
      "text/plain": [
       "       Actual  Predicted\n",
       "8604     0.82   1.228094\n",
       "2608     0.97   1.102022\n",
       "14581    1.44   1.648891\n",
       "4254     0.97   1.146743\n",
       "16588    1.45   1.686817\n",
       "...       ...        ...\n",
       "15956    1.27   1.688523\n",
       "12471    1.67   1.649132\n",
       "4574     0.59   1.097055\n",
       "16359    1.92   1.687211\n",
       "16249    1.79   1.688088\n",
       "\n",
       "[3650 rows x 2 columns]"
      ]
     },
     "execution_count": 523,
     "metadata": {},
     "output_type": "execute_result"
    }
   ],
   "source": [
    "newData = pd.DataFrame({'Actual': y_test, 'Predicted': y_pred})\n",
    "newData"
   ]
  },
  {
   "cell_type": "code",
   "execution_count": 529,
   "metadata": {},
   "outputs": [
    {
     "data": {
      "image/png": "[encoded data removed]",
      "text/plain": [
       "<Figure size 1152x720 with 1 Axes>"
      ]
     },
     "metadata": {
      "needs_background": "light"
     },
     "output_type": "display_data"
    }
   ],
   "source": [
    "df1 = newData.head(20)\n",
    "df1.plot(kind='bar',figsize=(16,10))\n",
    "plt.grid(which='major', linestyle='-', linewidth='0.5', color='green')\n",
    "plt.grid(which='minor', linestyle=':', linewidth='0.5', color='black')\n",
    "plt.show()\n",
    "\n",
    "# As the number of records is huge, for representation purpose I’m taking just 25 records."
   ]
  },
  {
   "cell_type": "code",
   "execution_count": 543,
   "metadata": {},
   "outputs": [
    {
     "data": {
      "image/png": "[encoded data removed]",
      "text/plain": [
       "<Figure size 432x288 with 1 Axes>"
      ]
     },
     "metadata": {
      "needs_background": "light"
     },
     "output_type": "display_data"
    }
   ],
   "source": [
    "plt.scatter(X_test.iloc[:,0].values, y_test,  color='gray')\n",
    "plt.plot(X_test, y_pred, color='red', linewidth=2)\n",
    "plt.show()\n",
    "\n",
    "# plt.scatter(y_test, X_test.iloc[:,0].values)"
   ]
  },
  {
   "cell_type": "code",
   "execution_count": 544,
   "metadata": {},
   "outputs": [
    {
     "name": "stdout",
     "output_type": "stream",
     "text": [
      "MAE: 0.2409765503267063\n",
      "MSE: 0.097609903508232\n",
      "RMSE: 0.3124258368128859\n"
     ]
    }
   ],
   "source": [
    "from sklearn import metrics\n",
    "print('MAE:', metrics.mean_absolute_error(y_test, pred))\n",
    "print('MSE:', metrics.mean_squared_error(y_test, pred))\n",
    "print('RMSE:', np.sqrt(metrics.mean_squared_error(y_test, y_pred)))"
   ]
  },
  {
   "cell_type": "code",
   "execution_count": 545,
   "metadata": {},
   "outputs": [
    {
     "data": {
      "text/plain": [
       "<matplotlib.collections.PathCollection at 0x1a3888a610>"
      ]
     },
     "execution_count": 545,
     "metadata": {},
     "output_type": "execute_result"
    },
    {
     "data": {
      "image/png": "[encoded data removed]",
      "text/plain": [
       "<Figure size 432x288 with 1 Axes>"
      ]
     },
     "metadata": {
      "needs_background": "light"
     },
     "output_type": "display_data"
    }
   ],
   "source": [
    "plt.scatter(x=y_test,y=pred)\n"
   ]
  },
  {
   "cell_type": "code",
   "execution_count": null,
   "metadata": {},
   "outputs": [],
   "source": [
    "# this model does not show a straight line which means that it is not a good model to use\n",
    "# what can we do to make these results better?"
   ]
  },
  {
   "cell_type": "code",
   "execution_count": null,
   "metadata": {},
   "outputs": [],
   "source": [
    "# lets try with DecisionTree Regressor model"
   ]
  },
  {
   "cell_type": "code",
   "execution_count": 546,
   "metadata": {},
   "outputs": [],
   "source": [
    "from sklearn.tree import DecisionTreeRegressor\n",
    "dtr=DecisionTreeRegressor()\n",
    "dtr.fit(X_train,y_train)\n",
    "pred=dtr.predict(X_test)"
   ]
  },
  {
   "cell_type": "code",
   "execution_count": 547,
   "metadata": {},
   "outputs": [
    {
     "data": {
      "text/plain": [
       "Text(0, 0.5, 'Predicted Y')"
      ]
     },
     "execution_count": 547,
     "metadata": {},
     "output_type": "execute_result"
    },
    {
     "data": {
      "image/png": "[encoded data removed]",
      "text/plain": [
       "<Figure size 432x288 with 1 Axes>"
      ]
     },
     "metadata": {
      "needs_background": "light"
     },
     "output_type": "display_data"
    }
   ],
   "source": [
    "plt.scatter(x=y_test,y=pred)\n",
    "plt.xlabel('Y Test')\n",
    "plt.ylabel('Predicted Y')"
   ]
  },
  {
   "cell_type": "code",
   "execution_count": 548,
   "metadata": {},
   "outputs": [],
   "source": [
    "# with the Decision tree model the results become closer to a \n",
    "# straight line \n",
    "# it is deffinetly better than the Linear regression model\n",
    "# to be sure we are gonna look at RMSE: metrics mean squared error"
   ]
  },
  {
   "cell_type": "code",
   "execution_count": 549,
   "metadata": {},
   "outputs": [
    {
     "name": "stdout",
     "output_type": "stream",
     "text": [
      "MAE: 0.15870684931506848\n",
      "MSE: 0.06237254794520548\n",
      "RMSE: 0.24974496580553027\n"
     ]
    }
   ],
   "source": [
    "print('MAE:', metrics.mean_absolute_error(y_test, pred))\n",
    "print('MSE:', metrics.mean_squared_error(y_test, pred))\n",
    "print('RMSE:', np.sqrt(metrics.mean_squared_error(y_test, pred)))"
   ]
  },
  {
   "cell_type": "code",
   "execution_count": null,
   "metadata": {},
   "outputs": [],
   "source": [
    "# RMSE is closer to 0 with Decision tree: 0.25"
   ]
  },
  {
   "cell_type": "code",
   "execution_count": 550,
   "metadata": {},
   "outputs": [],
   "source": [
    "#Random Forest Regressor#\n",
    "# just to test another model we will look at random forest"
   ]
  },
  {
   "cell_type": "code",
   "execution_count": 551,
   "metadata": {},
   "outputs": [],
   "source": [
    "from sklearn.ensemble import RandomForestRegressor\n",
    "rdr = RandomForestRegressor()\n",
    "rdr.fit(X_train,y_train)\n",
    "pred=rdr.predict(X_test)"
   ]
  },
  {
   "cell_type": "code",
   "execution_count": 553,
   "metadata": {},
   "outputs": [
    {
     "name": "stdout",
     "output_type": "stream",
     "text": [
      "MAE: 0.12364569863013697\n",
      "MSE: 0.03173871015890411\n",
      "RMSE: 0.1781536139372539\n"
     ]
    }
   ],
   "source": [
    "print('MAE:', metrics.mean_absolute_error(y_test, pred))\n",
    "print('MSE:', metrics.mean_squared_error(y_test, pred))\n",
    "print('RMSE:', np.sqrt(metrics.mean_squared_error(y_test, pred)))"
   ]
  },
  {
   "cell_type": "code",
   "execution_count": null,
   "metadata": {},
   "outputs": [],
   "source": [
    "# these results show that the random forest model is the better choice and model in this case"
   ]
  },
  {
   "cell_type": "code",
   "execution_count": 554,
   "metadata": {},
   "outputs": [
    {
     "data": {
      "text/plain": [
       "<matplotlib.axes._subplots.AxesSubplot at 0x1a4c1b9190>"
      ]
     },
     "execution_count": 554,
     "metadata": {},
     "output_type": "execute_result"
    },
    {
     "data": {
      "image/png": "[encoded data removed]",
      "text/plain": [
       "<Figure size 432x288 with 1 Axes>"
      ]
     },
     "metadata": {
      "needs_background": "light"
     },
     "output_type": "display_data"
    }
   ],
   "source": [
    "sns.distplot((y_test-pred),bins=50)\n"
   ]
  },
  {
   "cell_type": "code",
   "execution_count": 555,
   "metadata": {},
   "outputs": [],
   "source": [
    "# if we look at this discribution graph it tells us that the \n",
    "# distribution looks normal with is a good sign and the model \n",
    "# is correct\n"
   ]
  },
  {
   "cell_type": "code",
   "execution_count": 557,
   "metadata": {},
   "outputs": [
    {
     "data": {
      "text/html": [
       "<div>\n",
       "<style scoped>\n",
       "    .dataframe tbody tr th:only-of-type {\n",
       "        vertical-align: middle;\n",
       "    }\n",
       "\n",
       "    .dataframe tbody tr th {\n",
       "        vertical-align: top;\n",
       "    }\n",
       "\n",
       "    .dataframe thead th {\n",
       "        text-align: right;\n",
       "    }\n",
       "</style>\n",
       "<table border=\"1\" class=\"dataframe\">\n",
       "  <thead>\n",
       "    <tr style=\"text-align: right;\">\n",
       "      <th></th>\n",
       "      <th>Y Test</th>\n",
       "      <th>Pred</th>\n",
       "    </tr>\n",
       "  </thead>\n",
       "  <tbody>\n",
       "    <tr>\n",
       "      <th>8604</th>\n",
       "      <td>0.82</td>\n",
       "      <td>1.0322</td>\n",
       "    </tr>\n",
       "    <tr>\n",
       "      <th>2608</th>\n",
       "      <td>0.97</td>\n",
       "      <td>0.9972</td>\n",
       "    </tr>\n",
       "    <tr>\n",
       "      <th>14581</th>\n",
       "      <td>1.44</td>\n",
       "      <td>1.3964</td>\n",
       "    </tr>\n",
       "    <tr>\n",
       "      <th>4254</th>\n",
       "      <td>0.97</td>\n",
       "      <td>0.9193</td>\n",
       "    </tr>\n",
       "    <tr>\n",
       "      <th>16588</th>\n",
       "      <td>1.45</td>\n",
       "      <td>1.4700</td>\n",
       "    </tr>\n",
       "  </tbody>\n",
       "</table>\n",
       "</div>"
      ],
      "text/plain": [
       "       Y Test    Pred\n",
       "8604     0.82  1.0322\n",
       "2608     0.97  0.9972\n",
       "14581    1.44  1.3964\n",
       "4254     0.97  0.9193\n",
       "16588    1.45  1.4700"
      ]
     },
     "execution_count": 557,
     "metadata": {},
     "output_type": "execute_result"
    },
    {
     "data": {
      "image/png": "[encoded data removed]",
      "text/plain": [
       "<Figure size 360x360 with 1 Axes>"
      ]
     },
     "metadata": {
      "needs_background": "light"
     },
     "output_type": "display_data"
    }
   ],
   "source": [
    "data1 = pd.DataFrame({'Y Test':y_test , 'Pred':pred},columns=['Y Test','Pred'])\n",
    "sns.lmplot(x='Y Test',y='Pred',data=data1,palette='rainbow')\n",
    "data.head()"
   ]
  },
  {
   "cell_type": "code",
   "execution_count": 558,
   "metadata": {},
   "outputs": [
    {
     "data": {
      "text/plain": [
       "{'conventional': Int64Index([   0,    1,    2,    3,    4,    5,    6,    7,    8,    9,\n",
       "             ...\n",
       "             9116, 9117, 9118, 9119, 9120, 9121, 9122, 9123, 9124, 9125],\n",
       "            dtype='int64', length=9126),\n",
       " 'organic': Int64Index([ 9126,  9127,  9128,  9129,  9130,  9131,  9132,  9133,  9134,\n",
       "              9135,\n",
       "             ...\n",
       "             18239, 18240, 18241, 18242, 18243, 18244, 18245, 18246, 18247,\n",
       "             18248],\n",
       "            dtype='int64', length=9123)}"
      ]
     },
     "execution_count": 558,
     "metadata": {},
     "output_type": "execute_result"
    }
   ],
   "source": [
    "#try to predict#\n",
    "datatry = pd.read_csv('avocado.csv')\n",
    "datatry.groupby('type').groups\n"
   ]
  },
  {
   "cell_type": "code",
   "execution_count": 563,
   "metadata": {},
   "outputs": [],
   "source": [
    "PREDICTION_TYPE = 'conventional'\n",
    "dfNew = datatry[datatry.type == PREDICTION_TYPE]\n"
   ]
  },
  {
   "cell_type": "code",
   "execution_count": 565,
   "metadata": {},
   "outputs": [
    {
     "name": "stderr",
     "output_type": "stream",
     "text": [
      "/Users/benazeerturkmani/opt/anaconda3/lib/python3.7/site-packages/ipykernel_launcher.py:1: SettingWithCopyWarning: \n",
      "A value is trying to be set on a copy of a slice from a DataFrame.\n",
      "Try using .loc[row_indexer,col_indexer] = value instead\n",
      "\n",
      "See the caveats in the documentation: https://pandas.pydata.org/pandas-docs/stable/user_guide/indexing.html#returning-a-view-versus-a-copy\n",
      "  \"\"\"Entry point for launching an IPython kernel.\n"
     ]
    }
   ],
   "source": [
    "dfNew['Date'] = pd.to_datetime(datatry['Date'])\n"
   ]
  },
  {
   "cell_type": "code",
   "execution_count": 568,
   "metadata": {},
   "outputs": [
    {
     "name": "stdout",
     "output_type": "stream",
     "text": [
      "Total regions : 54\n",
      "-------------\n",
      "Albany  :  169\n",
      "Atlanta  :  169\n",
      "BaltimoreWashington  :  169\n",
      "Boise  :  169\n",
      "Boston  :  169\n",
      "BuffaloRochester  :  169\n",
      "California  :  169\n",
      "Charlotte  :  169\n",
      "Chicago  :  169\n",
      "CincinnatiDayton  :  169\n",
      "Columbus  :  169\n",
      "DallasFtWorth  :  169\n",
      "Denver  :  169\n",
      "Detroit  :  169\n",
      "GrandRapids  :  169\n",
      "GreatLakes  :  169\n",
      "HarrisburgScranton  :  169\n",
      "HartfordSpringfield  :  169\n",
      "Houston  :  169\n",
      "Indianapolis  :  169\n",
      "Jacksonville  :  169\n",
      "LasVegas  :  169\n",
      "LosAngeles  :  169\n",
      "Louisville  :  169\n",
      "MiamiFtLauderdale  :  169\n",
      "Midsouth  :  169\n",
      "Nashville  :  169\n",
      "NewOrleansMobile  :  169\n",
      "NewYork  :  169\n",
      "Northeast  :  169\n",
      "NorthernNewEngland  :  169\n",
      "Orlando  :  169\n",
      "Philadelphia  :  169\n",
      "PhoenixTucson  :  169\n",
      "Pittsburgh  :  169\n",
      "Plains  :  169\n",
      "Portland  :  169\n",
      "RaleighGreensboro  :  169\n",
      "RichmondNorfolk  :  169\n",
      "Roanoke  :  169\n",
      "Sacramento  :  169\n",
      "SanDiego  :  169\n",
      "SanFrancisco  :  169\n",
      "Seattle  :  169\n",
      "SouthCarolina  :  169\n",
      "SouthCentral  :  169\n",
      "Southeast  :  169\n",
      "Spokane  :  169\n",
      "StLouis  :  169\n",
      "Syracuse  :  169\n",
      "Tampa  :  169\n",
      "TotalUS  :  169\n",
      "West  :  169\n",
      "WestTexNewMexico  :  169\n"
     ]
    }
   ],
   "source": [
    "regions = dfNew.groupby(dfNew.region)\n",
    "print(\"Total regions :\", len(regions))\n",
    "print(\"-------------\")\n",
    "for name, group in regions:\n",
    "    print(name, \" : \", len(group))\n",
    "    \n",
    "# Let's check how many distinct regions column \n",
    "# region includes and how many entries each region has.\n"
   ]
  },
  {
   "cell_type": "code",
   "execution_count": 569,
   "metadata": {},
   "outputs": [],
   "source": [
    "PREDICTING_FOR = \"TotalUS\"\n"
   ]
  },
  {
   "cell_type": "code",
   "execution_count": 570,
   "metadata": {},
   "outputs": [],
   "source": [
    "date_price = regions.get_group(PREDICTING_FOR)[['Date', 'AveragePrice']].reset_index(drop=True)\n"
   ]
  },
  {
   "cell_type": "code",
   "execution_count": 571,
   "metadata": {},
   "outputs": [
    {
     "data": {
      "text/plain": [
       "<matplotlib.axes._subplots.AxesSubplot at 0x1a5aaa3c90>"
      ]
     },
     "execution_count": 571,
     "metadata": {},
     "output_type": "execute_result"
    },
    {
     "data": {
      "image/png": "[encoded data removed]",
      "text/plain": [
       "<Figure size 432x288 with 1 Axes>"
      ]
     },
     "metadata": {
      "needs_background": "light"
     },
     "output_type": "display_data"
    }
   ],
   "source": [
    "date_price.plot(x='Date', y='AveragePrice', kind=\"line\")"
   ]
  },
  {
   "cell_type": "code",
   "execution_count": 572,
   "metadata": {},
   "outputs": [],
   "source": [
    "date_price = date_price.rename(columns={'Date':'ds', 'AveragePrice':'y'})"
   ]
  },
  {
   "cell_type": "code",
   "execution_count": 583,
   "metadata": {},
   "outputs": [
    {
     "name": "stderr",
     "output_type": "stream",
     "text": [
      "INFO:fbprophet:Disabling weekly seasonality. Run prophet with weekly_seasonality=True to override this.\n",
      "INFO:fbprophet:Disabling daily seasonality. Run prophet with daily_seasonality=True to override this.\n"
     ]
    },
    {
     "data": {
      "text/plain": [
       "<fbprophet.forecaster.Prophet at 0x1a3a286a50>"
      ]
     },
     "execution_count": 583,
     "metadata": {},
     "output_type": "execute_result"
    }
   ],
   "source": [
    "import pandas as pd\n",
    "from fbprophet import Prophet\n",
    "m = Prophet()\n",
    "m.fit(date_price)"
   ]
  },
  {
   "cell_type": "code",
   "execution_count": 584,
   "metadata": {},
   "outputs": [],
   "source": [
    "future = m.make_future_dataframe(periods=365)\n",
    "forecast = m.predict(future)"
   ]
  },
  {
   "cell_type": "code",
   "execution_count": 585,
   "metadata": {},
   "outputs": [
    {
     "data": {
      "text/html": [
       "<div>\n",
       "<style scoped>\n",
       "    .dataframe tbody tr th:only-of-type {\n",
       "        vertical-align: middle;\n",
       "    }\n",
       "\n",
       "    .dataframe tbody tr th {\n",
       "        vertical-align: top;\n",
       "    }\n",
       "\n",
       "    .dataframe thead th {\n",
       "        text-align: right;\n",
       "    }\n",
       "</style>\n",
       "<table border=\"1\" class=\"dataframe\">\n",
       "  <thead>\n",
       "    <tr style=\"text-align: right;\">\n",
       "      <th></th>\n",
       "      <th>ds</th>\n",
       "      <th>trend</th>\n",
       "      <th>yhat_lower</th>\n",
       "      <th>yhat_upper</th>\n",
       "      <th>trend_lower</th>\n",
       "      <th>trend_upper</th>\n",
       "      <th>additive_terms</th>\n",
       "      <th>additive_terms_lower</th>\n",
       "      <th>additive_terms_upper</th>\n",
       "      <th>yearly</th>\n",
       "      <th>yearly_lower</th>\n",
       "      <th>yearly_upper</th>\n",
       "      <th>multiplicative_terms</th>\n",
       "      <th>multiplicative_terms_lower</th>\n",
       "      <th>multiplicative_terms_upper</th>\n",
       "      <th>yhat</th>\n",
       "    </tr>\n",
       "  </thead>\n",
       "  <tbody>\n",
       "    <tr>\n",
       "      <th>529</th>\n",
       "      <td>2019-03-21</td>\n",
       "      <td>1.163002</td>\n",
       "      <td>0.970539</td>\n",
       "      <td>1.230273</td>\n",
       "      <td>1.094118</td>\n",
       "      <td>1.229305</td>\n",
       "      <td>-0.061007</td>\n",
       "      <td>-0.061007</td>\n",
       "      <td>-0.061007</td>\n",
       "      <td>-0.061007</td>\n",
       "      <td>-0.061007</td>\n",
       "      <td>-0.061007</td>\n",
       "      <td>0.0</td>\n",
       "      <td>0.0</td>\n",
       "      <td>0.0</td>\n",
       "      <td>1.101996</td>\n",
       "    </tr>\n",
       "    <tr>\n",
       "      <th>530</th>\n",
       "      <td>2019-03-22</td>\n",
       "      <td>1.162874</td>\n",
       "      <td>0.968379</td>\n",
       "      <td>1.232012</td>\n",
       "      <td>1.093653</td>\n",
       "      <td>1.229429</td>\n",
       "      <td>-0.059586</td>\n",
       "      <td>-0.059586</td>\n",
       "      <td>-0.059586</td>\n",
       "      <td>-0.059586</td>\n",
       "      <td>-0.059586</td>\n",
       "      <td>-0.059586</td>\n",
       "      <td>0.0</td>\n",
       "      <td>0.0</td>\n",
       "      <td>0.0</td>\n",
       "      <td>1.103288</td>\n",
       "    </tr>\n",
       "    <tr>\n",
       "      <th>531</th>\n",
       "      <td>2019-03-23</td>\n",
       "      <td>1.162745</td>\n",
       "      <td>0.967562</td>\n",
       "      <td>1.242205</td>\n",
       "      <td>1.093250</td>\n",
       "      <td>1.229551</td>\n",
       "      <td>-0.057689</td>\n",
       "      <td>-0.057689</td>\n",
       "      <td>-0.057689</td>\n",
       "      <td>-0.057689</td>\n",
       "      <td>-0.057689</td>\n",
       "      <td>-0.057689</td>\n",
       "      <td>0.0</td>\n",
       "      <td>0.0</td>\n",
       "      <td>0.0</td>\n",
       "      <td>1.105056</td>\n",
       "    </tr>\n",
       "    <tr>\n",
       "      <th>532</th>\n",
       "      <td>2019-03-24</td>\n",
       "      <td>1.162616</td>\n",
       "      <td>0.980298</td>\n",
       "      <td>1.231715</td>\n",
       "      <td>1.092811</td>\n",
       "      <td>1.229739</td>\n",
       "      <td>-0.055330</td>\n",
       "      <td>-0.055330</td>\n",
       "      <td>-0.055330</td>\n",
       "      <td>-0.055330</td>\n",
       "      <td>-0.055330</td>\n",
       "      <td>-0.055330</td>\n",
       "      <td>0.0</td>\n",
       "      <td>0.0</td>\n",
       "      <td>0.0</td>\n",
       "      <td>1.107286</td>\n",
       "    </tr>\n",
       "    <tr>\n",
       "      <th>533</th>\n",
       "      <td>2019-03-25</td>\n",
       "      <td>1.162488</td>\n",
       "      <td>0.975269</td>\n",
       "      <td>1.236895</td>\n",
       "      <td>1.092383</td>\n",
       "      <td>1.230111</td>\n",
       "      <td>-0.052542</td>\n",
       "      <td>-0.052542</td>\n",
       "      <td>-0.052542</td>\n",
       "      <td>-0.052542</td>\n",
       "      <td>-0.052542</td>\n",
       "      <td>-0.052542</td>\n",
       "      <td>0.0</td>\n",
       "      <td>0.0</td>\n",
       "      <td>0.0</td>\n",
       "      <td>1.109946</td>\n",
       "    </tr>\n",
       "  </tbody>\n",
       "</table>\n",
       "</div>"
      ],
      "text/plain": [
       "            ds     trend  yhat_lower  yhat_upper  trend_lower  trend_upper  \\\n",
       "529 2019-03-21  1.163002    0.970539    1.230273     1.094118     1.229305   \n",
       "530 2019-03-22  1.162874    0.968379    1.232012     1.093653     1.229429   \n",
       "531 2019-03-23  1.162745    0.967562    1.242205     1.093250     1.229551   \n",
       "532 2019-03-24  1.162616    0.980298    1.231715     1.092811     1.229739   \n",
       "533 2019-03-25  1.162488    0.975269    1.236895     1.092383     1.230111   \n",
       "\n",
       "     additive_terms  additive_terms_lower  additive_terms_upper    yearly  \\\n",
       "529       -0.061007             -0.061007             -0.061007 -0.061007   \n",
       "530       -0.059586             -0.059586             -0.059586 -0.059586   \n",
       "531       -0.057689             -0.057689             -0.057689 -0.057689   \n",
       "532       -0.055330             -0.055330             -0.055330 -0.055330   \n",
       "533       -0.052542             -0.052542             -0.052542 -0.052542   \n",
       "\n",
       "     yearly_lower  yearly_upper  multiplicative_terms  \\\n",
       "529     -0.061007     -0.061007                   0.0   \n",
       "530     -0.059586     -0.059586                   0.0   \n",
       "531     -0.057689     -0.057689                   0.0   \n",
       "532     -0.055330     -0.055330                   0.0   \n",
       "533     -0.052542     -0.052542                   0.0   \n",
       "\n",
       "     multiplicative_terms_lower  multiplicative_terms_upper      yhat  \n",
       "529                         0.0                         0.0  1.101996  \n",
       "530                         0.0                         0.0  1.103288  \n",
       "531                         0.0                         0.0  1.105056  \n",
       "532                         0.0                         0.0  1.107286  \n",
       "533                         0.0                         0.0  1.109946  "
      ]
     },
     "execution_count": 585,
     "metadata": {},
     "output_type": "execute_result"
    }
   ],
   "source": [
    "forecast.tail()\n"
   ]
  },
  {
   "cell_type": "code",
   "execution_count": 589,
   "metadata": {},
   "outputs": [
    {
     "data": {
      "image/png": "[encoded data removed]",
      "text/plain": [
       "<Figure size 720x432 with 1 Axes>"
      ]
     },
     "metadata": {},
     "output_type": "display_data"
    }
   ],
   "source": [
    "fig1 = m.plot(forecast)\n"
   ]
  },
  {
   "cell_type": "code",
   "execution_count": 587,
   "metadata": {},
   "outputs": [
    {
     "data": {
      "image/png": "[encoded data removed]",
      "text/plain": [
       "<Figure size 648x432 with 2 Axes>"
      ]
     },
     "metadata": {},
     "output_type": "display_data"
    }
   ],
   "source": [
    "fig2 = m.plot_components(forecast)\n"
   ]
  },
  {
   "cell_type": "code",
   "execution_count": null,
   "metadata": {},
   "outputs": [],
   "source": []
  }
 ],
 "metadata": {
  "kernelspec": {
   "display_name": "Python 3",
   "language": "python",
   "name": "python3"
  },
  "language_info": {
   "codemirror_mode": {
    "name": "ipython",
    "version": 3
   },
   "file_extension": ".py",
   "mimetype": "text/x-python",
   "name": "python",
   "nbconvert_exporter": "python",
   "pygments_lexer": "ipython3",
   "version": "3.7.6"
  }
 },
 "nbformat": 4,
 "nbformat_minor": 4
}
